{
 "cells": [
  {
   "cell_type": "markdown",
   "id": "a01af5d9",
   "metadata": {
    "id": "a01af5d9",
    "pycharm": {
     "name": "#%% md\n"
    }
   },
   "source": [
    "### Sottoproblema 1: Prendere in input dei dati dall'utente e memorizzarli sottoforma di numeri\n",
    "\n",
    "Concetti teorici correlati:\n",
    "- variabili\n",
    "- funzione input\n",
    "- funzione print \n",
    "- tipi di dato\n",
    "- operazioni con i dati"
   ]
  },
  {
   "cell_type": "markdown",
   "source": [
    "Qui andremo a prendere 6 input dall'utente e a trasformarli in variabili float"
   ],
   "metadata": {
    "collapsed": false,
    "pycharm": {
     "name": "#%% md\n"
    }
   }
  },
  {
   "cell_type": "code",
   "execution_count": 1,
   "outputs": [],
   "source": [
    "hp = float(input('quale è il valore dei punti vita?\\n'))\n",
    "attack = float(input('quale è il valore di attacco?\\n'))\n",
    "defense = float(input('quale è il valore di difesa?\\n'))\n",
    "sp_atk = float(input(\"quale è il valore dell'attacco speciale?\\n\"))\n",
    "sp_def = float(input(\"quale è il valore della difesa speciale?\\n\"))\n",
    "speed = float(input(\"quale è il valore della velocità?\\n\"))\n"
   ],
   "metadata": {
    "collapsed": false,
    "pycharm": {
     "name": "#%%\n"
    }
   }
  },
  {
   "cell_type": "code",
   "execution_count": 2,
   "outputs": [
    {
     "name": "stdout",
     "output_type": "stream",
     "text": [
      "punti vita 42.0\n",
      "attacco 42.0\n",
      "difesa 42.0\n",
      "attacco speciale 42.0\n",
      "difesa speciale 42.0\n",
      "velocità 42.0\n"
     ]
    }
   ],
   "source": [
    "print('punti vita',hp)\n",
    "print('attacco',attack)\n",
    "print('difesa',defense)\n",
    "print('attacco speciale',sp_atk)\n",
    "print('difesa speciale',sp_def)\n",
    "print('velocità',speed)"
   ],
   "metadata": {
    "collapsed": false,
    "pycharm": {
     "name": "#%%\n"
    }
   }
  },
  {
   "cell_type": "markdown",
   "source": [
    "### Sottoproblema 2.a Leggere dal dataset tutti i dati relativi ai Pokemon\n",
    "\n",
    "Concetti teorici correlati:\n",
    "- liste e accesso ai loro elementi\n",
    "- cicli for per scorrere le liste\n",
    "- matrici\n",
    "- file CSV e loro lettura\n",
    "- apertura e lettura di un file in Python\n",
    "- dataset\n",
    "- introduzione alle f-strings (?)"
   ],
   "metadata": {
    "collapsed": false,
    "pycharm": {
     "name": "#%% md\n"
    }
   }
  },
  {
   "cell_type": "markdown",
   "source": [
    "Qui andremo ad aprire il dataset dei pokemon e ad assegnarlo ad una variabile"
   ],
   "metadata": {
    "collapsed": false,
    "pycharm": {
     "name": "#%% md\n"
    }
   }
  },
  {
   "cell_type": "code",
   "execution_count": 3,
   "outputs": [],
   "source": [
    "import csv"
   ],
   "metadata": {
    "collapsed": false,
    "pycharm": {
     "name": "#%%\n"
    }
   }
  },
  {
   "cell_type": "code",
   "execution_count": 4,
   "outputs": [
    {
     "name": "stdout",
     "output_type": "stream",
     "text": [
      "['#', 'Name', 'Type 1', 'Type 2', 'Total', 'HP', 'Attack', 'Defense', 'Sp. Atk', 'Sp. Def', 'Speed', 'Generation', 'Legendary']\n"
     ]
    }
   ],
   "source": [
    "pokemon_rows=[]\n",
    "with open('pokemon.csv','r') as file2:\n",
    "  reader=csv.reader(file2)\n",
    "  columns=next(reader)\n",
    "  print(columns)\n",
    "  for row in reader:\n",
    "    pokemon_rows.append(row)\n",
    "    \n"
   ],
   "metadata": {
    "collapsed": false,
    "pycharm": {
     "name": "#%%\n"
    }
   }
  },
  {
   "cell_type": "code",
   "execution_count": 5,
   "outputs": [
    {
     "name": "stdout",
     "output_type": "stream",
     "text": [
      "['721', 'Volcanion', 'Fire', 'Water', '600', '80', '110', '120', '130', '90', '70', '6', 'True']\n"
     ]
    }
   ],
   "source": [
    "print(pokemon_rows[-1])"
   ],
   "metadata": {
    "collapsed": false,
    "pycharm": {
     "name": "#%%\n"
    }
   }
  },
  {
   "cell_type": "markdown",
   "source": [
    "Facciamo la stessa cosa utilizzando pandas, una libreria per la manipolazione e l'analisi dei dati che offre strutture dati e operazioni per manipolare tabelle numeriche e serie temporali.\n"
   ],
   "metadata": {
    "collapsed": false,
    "pycharm": {
     "name": "#%% md\n"
    }
   }
  },
  {
   "cell_type": "code",
   "execution_count": 6,
   "outputs": [],
   "source": [
    "import pandas as pd"
   ],
   "metadata": {
    "collapsed": false,
    "pycharm": {
     "name": "#%%\n"
    }
   }
  },
  {
   "cell_type": "code",
   "execution_count": 7,
   "outputs": [],
   "source": [
    "df_pokemon=pd.read_csv('pokemon.csv')"
   ],
   "metadata": {
    "collapsed": false,
    "pycharm": {
     "name": "#%%\n"
    }
   }
  },
  {
   "cell_type": "code",
   "execution_count": 8,
   "outputs": [
    {
     "data": {
      "text/plain": "   #                   Name Type 1  Type 2  Total  HP  Attack  Defense  \\\n0  1              Bulbasaur  Grass  Poison    318  45      49       49   \n1  2                Ivysaur  Grass  Poison    405  60      62       63   \n2  3               Venusaur  Grass  Poison    525  80      82       83   \n3  3  VenusaurMega Venusaur  Grass  Poison    625  80     100      123   \n4  4             Charmander   Fire     NaN    309  39      52       43   \n\n   Sp. Atk  Sp. Def  Speed  Generation  Legendary  \n0       65       65     45           1      False  \n1       80       80     60           1      False  \n2      100      100     80           1      False  \n3      122      120     80           1      False  \n4       60       50     65           1      False  ",
      "text/html": "<div>\n<style scoped>\n    .dataframe tbody tr th:only-of-type {\n        vertical-align: middle;\n    }\n\n    .dataframe tbody tr th {\n        vertical-align: top;\n    }\n\n    .dataframe thead th {\n        text-align: right;\n    }\n</style>\n<table border=\"1\" class=\"dataframe\">\n  <thead>\n    <tr style=\"text-align: right;\">\n      <th></th>\n      <th>#</th>\n      <th>Name</th>\n      <th>Type 1</th>\n      <th>Type 2</th>\n      <th>Total</th>\n      <th>HP</th>\n      <th>Attack</th>\n      <th>Defense</th>\n      <th>Sp. Atk</th>\n      <th>Sp. Def</th>\n      <th>Speed</th>\n      <th>Generation</th>\n      <th>Legendary</th>\n    </tr>\n  </thead>\n  <tbody>\n    <tr>\n      <th>0</th>\n      <td>1</td>\n      <td>Bulbasaur</td>\n      <td>Grass</td>\n      <td>Poison</td>\n      <td>318</td>\n      <td>45</td>\n      <td>49</td>\n      <td>49</td>\n      <td>65</td>\n      <td>65</td>\n      <td>45</td>\n      <td>1</td>\n      <td>False</td>\n    </tr>\n    <tr>\n      <th>1</th>\n      <td>2</td>\n      <td>Ivysaur</td>\n      <td>Grass</td>\n      <td>Poison</td>\n      <td>405</td>\n      <td>60</td>\n      <td>62</td>\n      <td>63</td>\n      <td>80</td>\n      <td>80</td>\n      <td>60</td>\n      <td>1</td>\n      <td>False</td>\n    </tr>\n    <tr>\n      <th>2</th>\n      <td>3</td>\n      <td>Venusaur</td>\n      <td>Grass</td>\n      <td>Poison</td>\n      <td>525</td>\n      <td>80</td>\n      <td>82</td>\n      <td>83</td>\n      <td>100</td>\n      <td>100</td>\n      <td>80</td>\n      <td>1</td>\n      <td>False</td>\n    </tr>\n    <tr>\n      <th>3</th>\n      <td>3</td>\n      <td>VenusaurMega Venusaur</td>\n      <td>Grass</td>\n      <td>Poison</td>\n      <td>625</td>\n      <td>80</td>\n      <td>100</td>\n      <td>123</td>\n      <td>122</td>\n      <td>120</td>\n      <td>80</td>\n      <td>1</td>\n      <td>False</td>\n    </tr>\n    <tr>\n      <th>4</th>\n      <td>4</td>\n      <td>Charmander</td>\n      <td>Fire</td>\n      <td>NaN</td>\n      <td>309</td>\n      <td>39</td>\n      <td>52</td>\n      <td>43</td>\n      <td>60</td>\n      <td>50</td>\n      <td>65</td>\n      <td>1</td>\n      <td>False</td>\n    </tr>\n  </tbody>\n</table>\n</div>"
     },
     "execution_count": 8,
     "metadata": {},
     "output_type": "execute_result"
    }
   ],
   "source": [
    "df_pokemon.head()"
   ],
   "metadata": {
    "collapsed": false,
    "pycharm": {
     "name": "#%%\n"
    }
   }
  },
  {
   "cell_type": "markdown",
   "source": [
    "### Sottoproblema 2.b Utilizzare una funzione per stabilire un grado di similarità\n",
    "\n",
    "Concetti teorici correlati:\n",
    "- espressioni matematiche più complesse e precedenza degli operatori\n",
    "- modulo math\n",
    "- funzioni\n",
    "  - input/output di una funzione\n",
    "  - argomenti"
   ],
   "metadata": {
    "collapsed": false,
    "pycharm": {
     "name": "#%% md\n"
    }
   }
  },
  {
   "cell_type": "markdown",
   "source": [
    "Qui andremo a creare e testare le funzioni per\n",
    "- calcolo della distanza euclidea\n",
    "- normalizzazione\n",
    "Inoltre ci andremo a prendere le colonne con i soli valori numerici dal dataset"
   ],
   "metadata": {
    "collapsed": false,
    "pycharm": {
     "name": "#%% md\n"
    }
   }
  },
  {
   "cell_type": "code",
   "execution_count": 9,
   "outputs": [],
   "source": [
    "p1=(5,8)\n",
    "p2=(7,6)"
   ],
   "metadata": {
    "collapsed": false,
    "pycharm": {
     "name": "#%%\n"
    }
   }
  },
  {
   "cell_type": "code",
   "execution_count": 10,
   "outputs": [
    {
     "name": "stdout",
     "output_type": "stream",
     "text": [
      "2.8284271247461903\n"
     ]
    }
   ],
   "source": [
    "def euclidean_distance(p,q):\n",
    "  distance=0\n",
    "  for px,qx in zip(p,q):\n",
    "    distance+=(px-qx)**2\n",
    "  distance = distance**(1/2)\n",
    "  return distance\n",
    "\n",
    "print(euclidean_distance(p1,p2))"
   ],
   "metadata": {
    "collapsed": false,
    "pycharm": {
     "name": "#%%\n"
    }
   }
  },
  {
   "cell_type": "markdown",
   "source": [
    "usiamo la libreria math"
   ],
   "metadata": {
    "collapsed": false,
    "pycharm": {
     "name": "#%% md\n"
    }
   }
  },
  {
   "cell_type": "code",
   "execution_count": 11,
   "outputs": [],
   "source": [
    "import math"
   ],
   "metadata": {
    "collapsed": false,
    "pycharm": {
     "name": "#%%\n"
    }
   }
  },
  {
   "cell_type": "code",
   "execution_count": 12,
   "outputs": [
    {
     "name": "stdout",
     "output_type": "stream",
     "text": [
      "2.8284271247461903\n"
     ]
    }
   ],
   "source": [
    "def euclidean_distance(p,q):\n",
    "  distance=0\n",
    "  for px,qx in zip(p,q):\n",
    "    distance+=math.pow((px-qx),2)\n",
    "  distance = math.sqrt(distance)\n",
    "  return distance\n",
    "\n",
    "print(euclidean_distance(p1,p2))"
   ],
   "metadata": {
    "collapsed": false,
    "pycharm": {
     "name": "#%%\n"
    }
   }
  },
  {
   "cell_type": "markdown",
   "source": [
    "  New in version 3.8"
   ],
   "metadata": {
    "collapsed": false,
    "pycharm": {
     "name": "#%% md\n"
    }
   }
  },
  {
   "cell_type": "code",
   "execution_count": 13,
   "outputs": [
    {
     "name": "stdout",
     "output_type": "stream",
     "text": [
      "2.8284271247461903\n"
     ]
    }
   ],
   "source": [
    "def euclidean_distance(p,q):\n",
    "  return  math.dist(p,q)\n",
    "\n",
    "print(euclidean_distance(p1,p2))"
   ],
   "metadata": {
    "collapsed": false,
    "pycharm": {
     "name": "#%%\n"
    }
   }
  },
  {
   "cell_type": "code",
   "execution_count": 14,
   "outputs": [
    {
     "name": "stdout",
     "output_type": "stream",
     "text": [
      "['#', 'Name', 'Type 1', 'Type 2', 'Total', 'HP', 'Attack', 'Defense', 'Sp. Atk', 'Sp. Def', 'Speed', 'Generation', 'Legendary']\n"
     ]
    }
   ],
   "source": [
    "print(columns)"
   ],
   "metadata": {
    "collapsed": false,
    "pycharm": {
     "name": "#%%\n"
    }
   }
  },
  {
   "cell_type": "markdown",
   "source": [
    "Selezioniamo i valori di interesse e inseriamoli in una lista"
   ],
   "metadata": {
    "collapsed": false,
    "pycharm": {
     "name": "#%% md\n"
    }
   }
  },
  {
   "cell_type": "code",
   "execution_count": 15,
   "outputs": [],
   "source": [
    "indexs=[5,6,7,8,9,10]"
   ],
   "metadata": {
    "collapsed": false,
    "pycharm": {
     "name": "#%%\n"
    }
   }
  },
  {
   "cell_type": "code",
   "execution_count": 16,
   "outputs": [],
   "source": [
    "def get_pokemon_values(row):\n",
    "  pokemon_values=[]\n",
    "  for index in indexs:\n",
    "    pokemon_values.append(float(row[index]))\n",
    "  return pokemon_values"
   ],
   "metadata": {
    "collapsed": false,
    "pycharm": {
     "name": "#%%\n"
    }
   }
  },
  {
   "cell_type": "code",
   "execution_count": 17,
   "outputs": [
    {
     "name": "stdout",
     "output_type": "stream",
     "text": [
      "[45.0, 49.0, 49.0, 65.0, 65.0, 45.0]\n"
     ]
    }
   ],
   "source": [
    "print(get_pokemon_values(pokemon_rows[0]))"
   ],
   "metadata": {
    "collapsed": false,
    "pycharm": {
     "name": "#%%\n"
    }
   }
  },
  {
   "cell_type": "code",
   "execution_count": 18,
   "outputs": [],
   "source": [
    "pokemon_values=[]\n",
    "for row in pokemon_rows:\n",
    "  pokemon_values.append(get_pokemon_values(row))\n",
    "\n"
   ],
   "metadata": {
    "collapsed": false,
    "pycharm": {
     "name": "#%%\n"
    }
   }
  },
  {
   "cell_type": "code",
   "execution_count": 19,
   "outputs": [
    {
     "data": {
      "text/plain": "[45.0, 49.0, 49.0, 65.0, 65.0, 45.0]"
     },
     "execution_count": 19,
     "metadata": {},
     "output_type": "execute_result"
    }
   ],
   "source": [
    "pokemon_values[0]"
   ],
   "metadata": {
    "collapsed": false,
    "pycharm": {
     "name": "#%%\n"
    }
   }
  },
  {
   "cell_type": "markdown",
   "source": [
    "Creiamo una funzione per normalizzare"
   ],
   "metadata": {
    "collapsed": false,
    "pycharm": {
     "name": "#%% md\n"
    }
   }
  },
  {
   "cell_type": "code",
   "execution_count": 20,
   "outputs": [
    {
     "name": "stdout",
     "output_type": "stream",
     "text": [
      "[0.1732283464566929, 0.23783783783783785, 0.19555555555555557, 0.29891304347826086, 0.21428571428571427, 0.22857142857142856]\n"
     ]
    }
   ],
   "source": [
    "def normalizer(dataset):\n",
    "  min_max=[]\n",
    "  for column in range(len(dataset[0])):\n",
    "    col_values=[ row[column] for row in dataset ]\n",
    "    min_value=min(col_values)\n",
    "    max_value=max(col_values)\n",
    "    min_max.append((min_value,max_value))\n",
    "  normalized_dataset=[]\n",
    "  for row in dataset:\n",
    "    normalized_row=[]\n",
    "    for i,element in enumerate(row):\n",
    "      normalized_element=(element-min_max[i][0])/(min_max[i][1]-min_max[i][0])\n",
    "      normalized_row.append(normalized_element)\n",
    "    normalized_dataset.append(normalized_row)\n",
    "  return normalized_dataset\n",
    "normalized_pokemon_rows=normalizer(pokemon_values)\n",
    "print(normalized_pokemon_rows[0])\n"
   ],
   "metadata": {
    "collapsed": false,
    "pycharm": {
     "name": "#%%\n"
    }
   }
  },
  {
   "cell_type": "markdown",
   "source": [
    "Selezioniamo i valori di interesse con pandas"
   ],
   "metadata": {
    "collapsed": false,
    "pycharm": {
     "name": "#%% md\n"
    }
   }
  },
  {
   "cell_type": "code",
   "execution_count": 21,
   "outputs": [],
   "source": [
    "df_columns= ['HP', 'Attack', 'Defense', 'Sp. Atk', 'Sp. Def', 'Speed']"
   ],
   "metadata": {
    "collapsed": false,
    "pycharm": {
     "name": "#%%\n"
    }
   }
  },
  {
   "cell_type": "code",
   "execution_count": 22,
   "outputs": [
    {
     "data": {
      "text/plain": "   HP  Attack  Defense  Sp. Atk  Sp. Def  Speed\n0  45      49       49       65       65     45\n1  60      62       63       80       80     60\n2  80      82       83      100      100     80\n3  80     100      123      122      120     80\n4  39      52       43       60       50     65",
      "text/html": "<div>\n<style scoped>\n    .dataframe tbody tr th:only-of-type {\n        vertical-align: middle;\n    }\n\n    .dataframe tbody tr th {\n        vertical-align: top;\n    }\n\n    .dataframe thead th {\n        text-align: right;\n    }\n</style>\n<table border=\"1\" class=\"dataframe\">\n  <thead>\n    <tr style=\"text-align: right;\">\n      <th></th>\n      <th>HP</th>\n      <th>Attack</th>\n      <th>Defense</th>\n      <th>Sp. Atk</th>\n      <th>Sp. Def</th>\n      <th>Speed</th>\n    </tr>\n  </thead>\n  <tbody>\n    <tr>\n      <th>0</th>\n      <td>45</td>\n      <td>49</td>\n      <td>49</td>\n      <td>65</td>\n      <td>65</td>\n      <td>45</td>\n    </tr>\n    <tr>\n      <th>1</th>\n      <td>60</td>\n      <td>62</td>\n      <td>63</td>\n      <td>80</td>\n      <td>80</td>\n      <td>60</td>\n    </tr>\n    <tr>\n      <th>2</th>\n      <td>80</td>\n      <td>82</td>\n      <td>83</td>\n      <td>100</td>\n      <td>100</td>\n      <td>80</td>\n    </tr>\n    <tr>\n      <th>3</th>\n      <td>80</td>\n      <td>100</td>\n      <td>123</td>\n      <td>122</td>\n      <td>120</td>\n      <td>80</td>\n    </tr>\n    <tr>\n      <th>4</th>\n      <td>39</td>\n      <td>52</td>\n      <td>43</td>\n      <td>60</td>\n      <td>50</td>\n      <td>65</td>\n    </tr>\n  </tbody>\n</table>\n</div>"
     },
     "execution_count": 22,
     "metadata": {},
     "output_type": "execute_result"
    }
   ],
   "source": [
    "df_pokemon[ ['HP', 'Attack', 'Defense', 'Sp. Atk', 'Sp. Def', 'Speed']].head()"
   ],
   "metadata": {
    "collapsed": false,
    "pycharm": {
     "name": "#%%\n"
    }
   }
  },
  {
   "cell_type": "code",
   "execution_count": 23,
   "outputs": [
    {
     "data": {
      "text/plain": "   HP  Attack  Defense  Sp. Atk  Sp. Def  Speed\n0  45      49       49       65       65     45\n1  60      62       63       80       80     60\n2  80      82       83      100      100     80\n3  80     100      123      122      120     80\n4  39      52       43       60       50     65",
      "text/html": "<div>\n<style scoped>\n    .dataframe tbody tr th:only-of-type {\n        vertical-align: middle;\n    }\n\n    .dataframe tbody tr th {\n        vertical-align: top;\n    }\n\n    .dataframe thead th {\n        text-align: right;\n    }\n</style>\n<table border=\"1\" class=\"dataframe\">\n  <thead>\n    <tr style=\"text-align: right;\">\n      <th></th>\n      <th>HP</th>\n      <th>Attack</th>\n      <th>Defense</th>\n      <th>Sp. Atk</th>\n      <th>Sp. Def</th>\n      <th>Speed</th>\n    </tr>\n  </thead>\n  <tbody>\n    <tr>\n      <th>0</th>\n      <td>45</td>\n      <td>49</td>\n      <td>49</td>\n      <td>65</td>\n      <td>65</td>\n      <td>45</td>\n    </tr>\n    <tr>\n      <th>1</th>\n      <td>60</td>\n      <td>62</td>\n      <td>63</td>\n      <td>80</td>\n      <td>80</td>\n      <td>60</td>\n    </tr>\n    <tr>\n      <th>2</th>\n      <td>80</td>\n      <td>82</td>\n      <td>83</td>\n      <td>100</td>\n      <td>100</td>\n      <td>80</td>\n    </tr>\n    <tr>\n      <th>3</th>\n      <td>80</td>\n      <td>100</td>\n      <td>123</td>\n      <td>122</td>\n      <td>120</td>\n      <td>80</td>\n    </tr>\n    <tr>\n      <th>4</th>\n      <td>39</td>\n      <td>52</td>\n      <td>43</td>\n      <td>60</td>\n      <td>50</td>\n      <td>65</td>\n    </tr>\n  </tbody>\n</table>\n</div>"
     },
     "execution_count": 23,
     "metadata": {},
     "output_type": "execute_result"
    }
   ],
   "source": [
    "df_pokemon[ df_columns].head()"
   ],
   "metadata": {
    "collapsed": false,
    "pycharm": {
     "name": "#%%\n"
    }
   }
  },
  {
   "cell_type": "code",
   "execution_count": 24,
   "outputs": [
    {
     "name": "stdout",
     "output_type": "stream",
     "text": [
      "<class 'pandas.core.series.Series'>\n",
      "#                     1\n",
      "Name          Bulbasaur\n",
      "Type 1            Grass\n",
      "Type 2           Poison\n",
      "Total               318\n",
      "HP                   45\n",
      "Attack               49\n",
      "Defense              49\n",
      "Sp. Atk              65\n",
      "Sp. Def              65\n",
      "Speed                45\n",
      "Generation            1\n",
      "Legendary         False\n",
      "Name: 0, dtype: object\n"
     ]
    }
   ],
   "source": [
    "print(type(df_pokemon.iloc[0]))\n",
    "print(df_pokemon.iloc[0])\n"
   ],
   "metadata": {
    "collapsed": false,
    "pycharm": {
     "name": "#%%\n"
    }
   }
  },
  {
   "cell_type": "code",
   "execution_count": 25,
   "outputs": [
    {
     "name": "stdout",
     "output_type": "stream",
     "text": [
      "<class 'list'>\n",
      "[1, 'Bulbasaur', 'Grass', 'Poison', 318, 45, 49, 49, 65, 65, 45, 1, False]\n"
     ]
    }
   ],
   "source": [
    "print(type(list(df_pokemon.iloc[0])))\n",
    "print(list(df_pokemon.iloc[0]))"
   ],
   "metadata": {
    "collapsed": false,
    "pycharm": {
     "name": "#%%\n"
    }
   }
  },
  {
   "cell_type": "markdown",
   "source": [
    "selezioniamo i valori di interesse uno alla volta"
   ],
   "metadata": {
    "collapsed": false,
    "pycharm": {
     "name": "#%% md\n"
    }
   }
  },
  {
   "cell_type": "code",
   "execution_count": 26,
   "outputs": [],
   "source": [
    "def get_df_pokemon_values(row):\n",
    "  pokemon_values=row[df_columns]\n",
    "  return list(pokemon_values)"
   ],
   "metadata": {
    "collapsed": false,
    "pycharm": {
     "name": "#%%\n"
    }
   }
  },
  {
   "cell_type": "code",
   "execution_count": 27,
   "outputs": [
    {
     "name": "stdout",
     "output_type": "stream",
     "text": [
      "[45, 49, 49, 65, 65, 45]\n"
     ]
    }
   ],
   "source": [
    "print(get_df_pokemon_values(df_pokemon.iloc[0]))"
   ],
   "metadata": {
    "collapsed": false,
    "pycharm": {
     "name": "#%%\n"
    }
   }
  },
  {
   "cell_type": "markdown",
   "source": [
    "selezioniamo i valori di interesse tutti insieme"
   ],
   "metadata": {
    "collapsed": false,
    "pycharm": {
     "name": "#%% md\n"
    }
   }
  },
  {
   "cell_type": "code",
   "execution_count": 28,
   "outputs": [],
   "source": [
    "df_pokemon_values=df_pokemon[df_columns]"
   ],
   "metadata": {
    "collapsed": false,
    "pycharm": {
     "name": "#%%\n"
    }
   }
  },
  {
   "cell_type": "code",
   "execution_count": 29,
   "outputs": [
    {
     "data": {
      "text/plain": "   HP  Attack  Defense  Sp. Atk  Sp. Def  Speed\n0  45      49       49       65       65     45\n1  60      62       63       80       80     60\n2  80      82       83      100      100     80\n3  80     100      123      122      120     80\n4  39      52       43       60       50     65",
      "text/html": "<div>\n<style scoped>\n    .dataframe tbody tr th:only-of-type {\n        vertical-align: middle;\n    }\n\n    .dataframe tbody tr th {\n        vertical-align: top;\n    }\n\n    .dataframe thead th {\n        text-align: right;\n    }\n</style>\n<table border=\"1\" class=\"dataframe\">\n  <thead>\n    <tr style=\"text-align: right;\">\n      <th></th>\n      <th>HP</th>\n      <th>Attack</th>\n      <th>Defense</th>\n      <th>Sp. Atk</th>\n      <th>Sp. Def</th>\n      <th>Speed</th>\n    </tr>\n  </thead>\n  <tbody>\n    <tr>\n      <th>0</th>\n      <td>45</td>\n      <td>49</td>\n      <td>49</td>\n      <td>65</td>\n      <td>65</td>\n      <td>45</td>\n    </tr>\n    <tr>\n      <th>1</th>\n      <td>60</td>\n      <td>62</td>\n      <td>63</td>\n      <td>80</td>\n      <td>80</td>\n      <td>60</td>\n    </tr>\n    <tr>\n      <th>2</th>\n      <td>80</td>\n      <td>82</td>\n      <td>83</td>\n      <td>100</td>\n      <td>100</td>\n      <td>80</td>\n    </tr>\n    <tr>\n      <th>3</th>\n      <td>80</td>\n      <td>100</td>\n      <td>123</td>\n      <td>122</td>\n      <td>120</td>\n      <td>80</td>\n    </tr>\n    <tr>\n      <th>4</th>\n      <td>39</td>\n      <td>52</td>\n      <td>43</td>\n      <td>60</td>\n      <td>50</td>\n      <td>65</td>\n    </tr>\n  </tbody>\n</table>\n</div>"
     },
     "execution_count": 29,
     "metadata": {},
     "output_type": "execute_result"
    }
   ],
   "source": [
    "df_pokemon_values.head()"
   ],
   "metadata": {
    "collapsed": false,
    "pycharm": {
     "name": "#%%\n"
    }
   }
  },
  {
   "cell_type": "code",
   "execution_count": 30,
   "outputs": [],
   "source": [
    "list_df_pokemon_values=df_pokemon_values.values.tolist()"
   ],
   "metadata": {
    "collapsed": false,
    "pycharm": {
     "name": "#%%\n"
    }
   }
  },
  {
   "cell_type": "code",
   "execution_count": 31,
   "outputs": [
    {
     "data": {
      "text/plain": "[[45, 49, 49, 65, 65, 45],\n [60, 62, 63, 80, 80, 60],\n [80, 82, 83, 100, 100, 80],\n [80, 100, 123, 122, 120, 80],\n [39, 52, 43, 60, 50, 65],\n [58, 64, 58, 80, 65, 80],\n [78, 84, 78, 109, 85, 100],\n [78, 130, 111, 130, 85, 100],\n [78, 104, 78, 159, 115, 100],\n [44, 48, 65, 50, 64, 43],\n [59, 63, 80, 65, 80, 58],\n [79, 83, 100, 85, 105, 78],\n [79, 103, 120, 135, 115, 78],\n [45, 30, 35, 20, 20, 45],\n [50, 20, 55, 25, 25, 30],\n [60, 45, 50, 90, 80, 70],\n [40, 35, 30, 20, 20, 50],\n [45, 25, 50, 25, 25, 35],\n [65, 90, 40, 45, 80, 75],\n [65, 150, 40, 15, 80, 145],\n [40, 45, 40, 35, 35, 56],\n [63, 60, 55, 50, 50, 71],\n [83, 80, 75, 70, 70, 101],\n [83, 80, 80, 135, 80, 121],\n [30, 56, 35, 25, 35, 72],\n [55, 81, 60, 50, 70, 97],\n [40, 60, 30, 31, 31, 70],\n [65, 90, 65, 61, 61, 100],\n [35, 60, 44, 40, 54, 55],\n [60, 85, 69, 65, 79, 80],\n [35, 55, 40, 50, 50, 90],\n [60, 90, 55, 90, 80, 110],\n [50, 75, 85, 20, 30, 40],\n [75, 100, 110, 45, 55, 65],\n [55, 47, 52, 40, 40, 41],\n [70, 62, 67, 55, 55, 56],\n [90, 92, 87, 75, 85, 76],\n [46, 57, 40, 40, 40, 50],\n [61, 72, 57, 55, 55, 65],\n [81, 102, 77, 85, 75, 85],\n [70, 45, 48, 60, 65, 35],\n [95, 70, 73, 95, 90, 60],\n [38, 41, 40, 50, 65, 65],\n [73, 76, 75, 81, 100, 100],\n [115, 45, 20, 45, 25, 20],\n [140, 70, 45, 85, 50, 45],\n [40, 45, 35, 30, 40, 55],\n [75, 80, 70, 65, 75, 90],\n [45, 50, 55, 75, 65, 30],\n [60, 65, 70, 85, 75, 40],\n [75, 80, 85, 110, 90, 50],\n [35, 70, 55, 45, 55, 25],\n [60, 95, 80, 60, 80, 30],\n [60, 55, 50, 40, 55, 45],\n [70, 65, 60, 90, 75, 90],\n [10, 55, 25, 35, 45, 95],\n [35, 80, 50, 50, 70, 120],\n [40, 45, 35, 40, 40, 90],\n [65, 70, 60, 65, 65, 115],\n [50, 52, 48, 65, 50, 55],\n [80, 82, 78, 95, 80, 85],\n [40, 80, 35, 35, 45, 70],\n [65, 105, 60, 60, 70, 95],\n [55, 70, 45, 70, 50, 60],\n [90, 110, 80, 100, 80, 95],\n [40, 50, 40, 40, 40, 90],\n [65, 65, 65, 50, 50, 90],\n [90, 95, 95, 70, 90, 70],\n [25, 20, 15, 105, 55, 90],\n [40, 35, 30, 120, 70, 105],\n [55, 50, 45, 135, 95, 120],\n [55, 50, 65, 175, 95, 150],\n [70, 80, 50, 35, 35, 35],\n [80, 100, 70, 50, 60, 45],\n [90, 130, 80, 65, 85, 55],\n [50, 75, 35, 70, 30, 40],\n [65, 90, 50, 85, 45, 55],\n [80, 105, 65, 100, 70, 70],\n [40, 40, 35, 50, 100, 70],\n [80, 70, 65, 80, 120, 100],\n [40, 80, 100, 30, 30, 20],\n [55, 95, 115, 45, 45, 35],\n [80, 120, 130, 55, 65, 45],\n [50, 85, 55, 65, 65, 90],\n [65, 100, 70, 80, 80, 105],\n [90, 65, 65, 40, 40, 15],\n [95, 75, 110, 100, 80, 30],\n [95, 75, 180, 130, 80, 30],\n [25, 35, 70, 95, 55, 45],\n [50, 60, 95, 120, 70, 70],\n [52, 65, 55, 58, 62, 60],\n [35, 85, 45, 35, 35, 75],\n [60, 110, 70, 60, 60, 100],\n [65, 45, 55, 45, 70, 45],\n [90, 70, 80, 70, 95, 70],\n [80, 80, 50, 40, 50, 25],\n [105, 105, 75, 65, 100, 50],\n [30, 65, 100, 45, 25, 40],\n [50, 95, 180, 85, 45, 70],\n [30, 35, 30, 100, 35, 80],\n [45, 50, 45, 115, 55, 95],\n [60, 65, 60, 130, 75, 110],\n [60, 65, 80, 170, 95, 130],\n [35, 45, 160, 30, 45, 70],\n [60, 48, 45, 43, 90, 42],\n [85, 73, 70, 73, 115, 67],\n [30, 105, 90, 25, 25, 50],\n [55, 130, 115, 50, 50, 75],\n [40, 30, 50, 55, 55, 100],\n [60, 50, 70, 80, 80, 140],\n [60, 40, 80, 60, 45, 40],\n [95, 95, 85, 125, 65, 55],\n [50, 50, 95, 40, 50, 35],\n [60, 80, 110, 50, 80, 45],\n [50, 120, 53, 35, 110, 87],\n [50, 105, 79, 35, 110, 76],\n [90, 55, 75, 60, 75, 30],\n [40, 65, 95, 60, 45, 35],\n [65, 90, 120, 85, 70, 60],\n [80, 85, 95, 30, 30, 25],\n [105, 130, 120, 45, 45, 40],\n [250, 5, 5, 35, 105, 50],\n [65, 55, 115, 100, 40, 60],\n [105, 95, 80, 40, 80, 90],\n [105, 125, 100, 60, 100, 100],\n [30, 40, 70, 70, 25, 60],\n [55, 65, 95, 95, 45, 85],\n [45, 67, 60, 35, 50, 63],\n [80, 92, 65, 65, 80, 68],\n [30, 45, 55, 70, 55, 85],\n [60, 75, 85, 100, 85, 115],\n [40, 45, 65, 100, 120, 90],\n [70, 110, 80, 55, 80, 105],\n [65, 50, 35, 115, 95, 95],\n [65, 83, 57, 95, 85, 105],\n [65, 95, 57, 100, 85, 93],\n [65, 125, 100, 55, 70, 85],\n [65, 155, 120, 65, 90, 105],\n [75, 100, 95, 40, 70, 110],\n [20, 10, 55, 15, 20, 80],\n [95, 125, 79, 60, 100, 81],\n [95, 155, 109, 70, 130, 81],\n [130, 85, 80, 85, 95, 60],\n [48, 48, 48, 48, 48, 48],\n [55, 55, 50, 45, 65, 55],\n [130, 65, 60, 110, 95, 65],\n [65, 65, 60, 110, 95, 130],\n [65, 130, 60, 95, 110, 65],\n [65, 60, 70, 85, 75, 40],\n [35, 40, 100, 90, 55, 35],\n [70, 60, 125, 115, 70, 55],\n [30, 80, 90, 55, 45, 55],\n [60, 115, 105, 65, 70, 80],\n [80, 105, 65, 60, 75, 130],\n [80, 135, 85, 70, 95, 150],\n [160, 110, 65, 65, 110, 30],\n [90, 85, 100, 95, 125, 85],\n [90, 90, 85, 125, 90, 100],\n [90, 100, 90, 125, 85, 90],\n [41, 64, 45, 50, 50, 50],\n [61, 84, 65, 70, 70, 70],\n [91, 134, 95, 100, 100, 80],\n [106, 110, 90, 154, 90, 130],\n [106, 190, 100, 154, 100, 130],\n [106, 150, 70, 194, 120, 140],\n [100, 100, 100, 100, 100, 100],\n [45, 49, 65, 49, 65, 45],\n [60, 62, 80, 63, 80, 60],\n [80, 82, 100, 83, 100, 80],\n [39, 52, 43, 60, 50, 65],\n [58, 64, 58, 80, 65, 80],\n [78, 84, 78, 109, 85, 100],\n [50, 65, 64, 44, 48, 43],\n [65, 80, 80, 59, 63, 58],\n [85, 105, 100, 79, 83, 78],\n [35, 46, 34, 35, 45, 20],\n [85, 76, 64, 45, 55, 90],\n [60, 30, 30, 36, 56, 50],\n [100, 50, 50, 76, 96, 70],\n [40, 20, 30, 40, 80, 55],\n [55, 35, 50, 55, 110, 85],\n [40, 60, 40, 40, 40, 30],\n [70, 90, 70, 60, 60, 40],\n [85, 90, 80, 70, 80, 130],\n [75, 38, 38, 56, 56, 67],\n [125, 58, 58, 76, 76, 67],\n [20, 40, 15, 35, 35, 60],\n [50, 25, 28, 45, 55, 15],\n [90, 30, 15, 40, 20, 15],\n [35, 20, 65, 40, 65, 20],\n [55, 40, 85, 80, 105, 40],\n [40, 50, 45, 70, 45, 70],\n [65, 75, 70, 95, 70, 95],\n [55, 40, 40, 65, 45, 35],\n [70, 55, 55, 80, 60, 45],\n [90, 75, 85, 115, 90, 55],\n [90, 95, 105, 165, 110, 45],\n [75, 80, 95, 90, 100, 50],\n [70, 20, 50, 20, 50, 40],\n [100, 50, 80, 60, 80, 50],\n [70, 100, 115, 30, 65, 30],\n [90, 75, 75, 90, 100, 70],\n [35, 35, 40, 35, 55, 50],\n [55, 45, 50, 45, 65, 80],\n [75, 55, 70, 55, 95, 110],\n [55, 70, 55, 40, 55, 85],\n [30, 30, 30, 30, 30, 30],\n [75, 75, 55, 105, 85, 30],\n [65, 65, 45, 75, 45, 95],\n [55, 45, 45, 25, 25, 15],\n [95, 85, 85, 65, 65, 35],\n [65, 65, 60, 130, 95, 110],\n [95, 65, 110, 60, 130, 65],\n [60, 85, 42, 85, 42, 91],\n [95, 75, 80, 100, 110, 30],\n [60, 60, 60, 85, 85, 85],\n [48, 72, 48, 72, 48, 48],\n [190, 33, 58, 33, 58, 33],\n [70, 80, 65, 90, 65, 85],\n [50, 65, 90, 35, 35, 15],\n [75, 90, 140, 60, 60, 40],\n [100, 70, 70, 65, 65, 45],\n [65, 75, 105, 35, 65, 85],\n [75, 85, 200, 55, 65, 30],\n [75, 125, 230, 55, 95, 30],\n [60, 80, 50, 40, 40, 30],\n [90, 120, 75, 60, 60, 45],\n [65, 95, 75, 55, 55, 85],\n [70, 130, 100, 55, 80, 65],\n [70, 150, 140, 65, 100, 75],\n [20, 10, 230, 10, 230, 5],\n [80, 125, 75, 40, 95, 85],\n [80, 185, 115, 40, 105, 75],\n [55, 95, 55, 35, 75, 115],\n [60, 80, 50, 50, 50, 40],\n [90, 130, 75, 75, 75, 55],\n [40, 40, 40, 70, 40, 20],\n [50, 50, 120, 80, 80, 30],\n [50, 50, 40, 30, 30, 50],\n [100, 100, 80, 60, 60, 50],\n [55, 55, 85, 65, 85, 35],\n [35, 65, 35, 65, 35, 65],\n [75, 105, 75, 105, 75, 45],\n [45, 55, 45, 65, 45, 75],\n [65, 40, 70, 80, 140, 70],\n [65, 80, 140, 40, 70, 70],\n [45, 60, 30, 80, 50, 65],\n [75, 90, 50, 110, 80, 95],\n [75, 90, 90, 140, 90, 115],\n [75, 95, 95, 95, 95, 85],\n [90, 60, 60, 40, 40, 40],\n [90, 120, 120, 60, 60, 50],\n [85, 80, 90, 105, 95, 60],\n [73, 95, 62, 85, 65, 85],\n [55, 20, 35, 20, 45, 75],\n [35, 35, 35, 35, 35, 35],\n [50, 95, 95, 35, 110, 70],\n [45, 30, 15, 85, 65, 65],\n [45, 63, 37, 65, 55, 95],\n [45, 75, 37, 70, 55, 83],\n [95, 80, 105, 40, 70, 100],\n [255, 10, 10, 75, 135, 55],\n [90, 85, 75, 115, 100, 115],\n [115, 115, 85, 90, 75, 100],\n [100, 75, 115, 90, 115, 85],\n [50, 64, 50, 45, 50, 41],\n [70, 84, 70, 65, 70, 51],\n [100, 134, 110, 95, 100, 61],\n [100, 164, 150, 95, 120, 71],\n [106, 90, 130, 90, 154, 110],\n [106, 130, 90, 110, 154, 90],\n [100, 100, 100, 100, 100, 100],\n [40, 45, 35, 65, 55, 70],\n [50, 65, 45, 85, 65, 95],\n [70, 85, 65, 105, 85, 120],\n [70, 110, 75, 145, 85, 145],\n [45, 60, 40, 70, 50, 45],\n [60, 85, 60, 85, 60, 55],\n [80, 120, 70, 110, 70, 80],\n [80, 160, 80, 130, 80, 100],\n [50, 70, 50, 50, 50, 40],\n [70, 85, 70, 60, 70, 50],\n [100, 110, 90, 85, 90, 60],\n [100, 150, 110, 95, 110, 70],\n [35, 55, 35, 30, 30, 35],\n [70, 90, 70, 60, 60, 70],\n [38, 30, 41, 30, 41, 60],\n [78, 70, 61, 50, 61, 100],\n [45, 45, 35, 20, 30, 20],\n [50, 35, 55, 25, 25, 15],\n [60, 70, 50, 100, 50, 65],\n [50, 35, 55, 25, 25, 15],\n [60, 50, 70, 50, 90, 65],\n [40, 30, 30, 40, 50, 30],\n [60, 50, 50, 60, 70, 50],\n [80, 70, 70, 90, 100, 70],\n [40, 40, 50, 30, 30, 30],\n [70, 70, 40, 60, 40, 60],\n [90, 100, 60, 90, 60, 80],\n [40, 55, 30, 30, 30, 85],\n [60, 85, 60, 50, 50, 125],\n [40, 30, 30, 55, 30, 85],\n [60, 50, 100, 85, 70, 65],\n [28, 25, 25, 45, 35, 40],\n [38, 35, 35, 65, 55, 50],\n [68, 65, 65, 125, 115, 80],\n [68, 85, 65, 165, 135, 100],\n [40, 30, 32, 50, 52, 65],\n [70, 60, 62, 80, 82, 60],\n [60, 40, 60, 40, 60, 35],\n [60, 130, 80, 60, 60, 70],\n [60, 60, 60, 35, 35, 30],\n [80, 80, 80, 55, 55, 90],\n [150, 160, 100, 95, 65, 100],\n [31, 45, 90, 30, 30, 40],\n [61, 90, 45, 50, 50, 160],\n [1, 90, 45, 30, 30, 40],\n [64, 51, 23, 51, 23, 28],\n [84, 71, 43, 71, 43, 48],\n [104, 91, 63, 91, 73, 68],\n [72, 60, 30, 20, 30, 25],\n [144, 120, 60, 40, 60, 50],\n [50, 20, 40, 20, 40, 20],\n [30, 45, 135, 45, 90, 30],\n [50, 45, 45, 35, 35, 50],\n [70, 65, 65, 55, 55, 70],\n [50, 75, 75, 65, 65, 50],\n [50, 85, 125, 85, 115, 20],\n [50, 85, 85, 55, 55, 50],\n [50, 105, 125, 55, 95, 50],\n [50, 70, 100, 40, 40, 30],\n [60, 90, 140, 50, 50, 40],\n [70, 110, 180, 60, 60, 50],\n [70, 140, 230, 60, 80, 50],\n [30, 40, 55, 40, 55, 60],\n [60, 60, 75, 60, 75, 80],\n [60, 100, 85, 80, 85, 100],\n [40, 45, 40, 65, 40, 65],\n [70, 75, 60, 105, 60, 105],\n [70, 75, 80, 135, 80, 135],\n [60, 50, 40, 85, 75, 95],\n [60, 40, 50, 75, 85, 95],\n [65, 73, 55, 47, 75, 85],\n [65, 47, 55, 73, 75, 85],\n [50, 60, 45, 100, 80, 65],\n [70, 43, 53, 43, 53, 40],\n [100, 73, 83, 73, 83, 55],\n [45, 90, 20, 65, 20, 65],\n [70, 120, 40, 95, 40, 95],\n [70, 140, 70, 110, 65, 105],\n [130, 70, 35, 70, 35, 60],\n [170, 90, 45, 90, 45, 60],\n [60, 60, 40, 65, 45, 35],\n [70, 100, 70, 105, 75, 40],\n [70, 120, 100, 145, 105, 20],\n [70, 85, 140, 85, 70, 20],\n [60, 25, 35, 70, 80, 60],\n [80, 45, 65, 90, 110, 80],\n [60, 60, 60, 60, 60, 60],\n [45, 100, 45, 45, 45, 10],\n [50, 70, 50, 50, 50, 70],\n [80, 100, 80, 80, 80, 100],\n [50, 85, 40, 85, 40, 35],\n [70, 115, 60, 115, 60, 55],\n [45, 40, 60, 40, 75, 50],\n [75, 70, 90, 70, 105, 80],\n [75, 110, 110, 110, 105, 80],\n [73, 115, 60, 60, 60, 90],\n [73, 100, 60, 100, 60, 65],\n [70, 55, 65, 95, 85, 70],\n [70, 95, 85, 55, 65, 70],\n [50, 48, 43, 46, 41, 60],\n [110, 78, 73, 76, 71, 60],\n [43, 80, 65, 50, 35, 35],\n [63, 120, 85, 90, 55, 55],\n [40, 40, 55, 40, 70, 55],\n [60, 70, 105, 70, 120, 75],\n [66, 41, 77, 61, 87, 23],\n [86, 81, 97, 81, 107, 43],\n [45, 95, 50, 40, 50, 75],\n [75, 125, 100, 70, 80, 45],\n [20, 15, 20, 10, 55, 80],\n [95, 60, 79, 100, 125, 81],\n [70, 70, 70, 70, 70, 70],\n [60, 90, 70, 60, 120, 40],\n [44, 75, 35, 63, 33, 45],\n [64, 115, 65, 83, 63, 65],\n [64, 165, 75, 93, 83, 75],\n [20, 40, 90, 30, 90, 25],\n [40, 70, 130, 60, 130, 25],\n [99, 68, 83, 72, 87, 51],\n [65, 50, 70, 95, 80, 65],\n [65, 130, 60, 75, 60, 75],\n [65, 150, 60, 115, 60, 115],\n [95, 23, 48, 23, 48, 23],\n [50, 50, 50, 50, 50, 50],\n [80, 80, 80, 80, 80, 80],\n [80, 120, 80, 120, 80, 100],\n [70, 40, 50, 55, 50, 25],\n [90, 60, 70, 75, 70, 45],\n [110, 80, 90, 95, 90, 65],\n [35, 64, 85, 74, 55, 32],\n [55, 104, 105, 94, 75, 52],\n [55, 84, 105, 114, 75, 52],\n [100, 90, 130, 45, 65, 55],\n [43, 30, 55, 40, 65, 97],\n [45, 75, 60, 40, 30, 50],\n [65, 95, 100, 60, 50, 50],\n [95, 135, 80, 110, 80, 100],\n [95, 145, 130, 120, 90, 120],\n [40, 55, 80, 35, 60, 30],\n [60, 75, 100, 55, 80, 50],\n [80, 135, 130, 95, 90, 70],\n [80, 145, 150, 105, 110, 110],\n [80, 100, 200, 50, 100, 50],\n [80, 50, 100, 100, 200, 50],\n [80, 75, 150, 75, 150, 50],\n [80, 80, 90, 110, 130, 110],\n [80, 100, 120, 140, 150, 110],\n [80, 90, 80, 130, 110, 110],\n [80, 130, 100, 160, 120, 110],\n [100, 100, 90, 150, 140, 90],\n [100, 150, 90, 180, 160, 90],\n [100, 150, 140, 100, 90, 90],\n [100, 180, 160, 150, 90, 90],\n [105, 150, 90, 150, 90, 95],\n [105, 180, 100, 180, 100, 115],\n [100, 100, 100, 100, 100, 100],\n [50, 150, 50, 150, 50, 150],\n [50, 180, 20, 180, 20, 150],\n [50, 70, 160, 70, 160, 90],\n [50, 95, 90, 95, 90, 180],\n [55, 68, 64, 45, 55, 31],\n [75, 89, 85, 55, 65, 36],\n [95, 109, 105, 75, 85, 56],\n [44, 58, 44, 58, 44, 61],\n [64, 78, 52, 78, 52, 81],\n [76, 104, 71, 104, 71, 108],\n [53, 51, 53, 61, 56, 40],\n [64, 66, 68, 81, 76, 50],\n [84, 86, 88, 111, 101, 60],\n [40, 55, 30, 30, 30, 60],\n [55, 75, 50, 40, 40, 80],\n [85, 120, 70, 50, 60, 100],\n [59, 45, 40, 35, 40, 31],\n [79, 85, 60, 55, 60, 71],\n [37, 25, 41, 25, 41, 25],\n [77, 85, 51, 55, 51, 65],\n [45, 65, 34, 40, 34, 45],\n [60, 85, 49, 60, 49, 60],\n [80, 120, 79, 95, 79, 70],\n [40, 30, 35, 50, 70, 55],\n [60, 70, 65, 125, 105, 90],\n [67, 125, 40, 30, 30, 58],\n [97, 165, 60, 65, 50, 58],\n [30, 42, 118, 42, 88, 30],\n [60, 52, 168, 47, 138, 30],\n [40, 29, 45, 29, 45, 36],\n [60, 59, 85, 79, 105, 36],\n [60, 79, 105, 59, 85, 36],\n [60, 69, 95, 69, 95, 36],\n [70, 94, 50, 94, 50, 66],\n [30, 30, 42, 30, 42, 70],\n [70, 80, 102, 80, 102, 40],\n [60, 45, 70, 45, 90, 95],\n [55, 65, 35, 60, 30, 85],\n [85, 105, 55, 85, 50, 115],\n [45, 35, 45, 62, 53, 35],\n [70, 60, 70, 87, 78, 85],\n [76, 48, 48, 57, 62, 34],\n [111, 83, 68, 92, 82, 39],\n [75, 100, 66, 60, 66, 115],\n [90, 50, 34, 60, 44, 70],\n [150, 80, 44, 90, 54, 80],\n [55, 66, 44, 44, 56, 85],\n [65, 76, 84, 54, 96, 105],\n [65, 136, 94, 54, 96, 135],\n [60, 60, 60, 105, 105, 105],\n [100, 125, 52, 105, 52, 71],\n [49, 55, 42, 42, 37, 85],\n [71, 82, 64, 64, 59, 112],\n [45, 30, 50, 65, 50, 45],\n [63, 63, 47, 41, 41, 74],\n [103, 93, 67, 71, 61, 84],\n [57, 24, 86, 24, 86, 23],\n [67, 89, 116, 79, 116, 33],\n [50, 80, 95, 10, 45, 10],\n [20, 25, 45, 70, 90, 60],\n [100, 5, 5, 15, 65, 30],\n [76, 65, 45, 92, 42, 91],\n [50, 92, 108, 92, 108, 35],\n [58, 70, 45, 40, 45, 42],\n [68, 90, 65, 50, 55, 82],\n [108, 130, 95, 80, 85, 102],\n [108, 170, 115, 120, 95, 92],\n [135, 85, 40, 40, 85, 5],\n [40, 70, 40, 35, 40, 60],\n [70, 110, 70, 115, 70, 90],\n [70, 145, 88, 140, 70, 112],\n [68, 72, 78, 38, 42, 32],\n [108, 112, 118, 68, 72, 47],\n [40, 50, 90, 30, 55, 65],\n [70, 90, 110, 60, 75, 95],\n [48, 61, 40, 61, 40, 50],\n [83, 106, 65, 86, 65, 85],\n [74, 100, 72, 90, 72, 46],\n [49, 49, 56, 49, 61, 66],\n [69, 69, 76, 69, 86, 91],\n [45, 20, 50, 60, 120, 50],\n [60, 62, 50, 62, 60, 40],\n [90, 92, 75, 92, 85, 60],\n [90, 132, 105, 132, 105, 30],\n [70, 120, 65, 45, 85, 125],\n [70, 70, 115, 130, 90, 60],\n [110, 85, 95, 80, 95, 50],\n [115, 140, 130, 55, 55, 40],\n [100, 100, 125, 110, 50, 50],\n [75, 123, 67, 95, 85, 95],\n [75, 95, 67, 125, 95, 83],\n [85, 50, 95, 120, 115, 80],\n [86, 76, 86, 116, 56, 95],\n [65, 110, 130, 60, 65, 95],\n [65, 60, 110, 130, 95, 65],\n [75, 95, 125, 45, 75, 95],\n [110, 130, 80, 70, 60, 80],\n [85, 80, 70, 135, 75, 90],\n [68, 125, 65, 65, 115, 80],\n [68, 165, 95, 65, 115, 110],\n [60, 55, 145, 75, 150, 40],\n [45, 100, 135, 65, 135, 45],\n [70, 80, 70, 80, 70, 110],\n [50, 50, 77, 95, 77, 91],\n [50, 65, 107, 105, 107, 86],\n [50, 65, 107, 105, 107, 86],\n [50, 65, 107, 105, 107, 86],\n [50, 65, 107, 105, 107, 86],\n [50, 65, 107, 105, 107, 86],\n [75, 75, 130, 75, 130, 95],\n [80, 105, 105, 105, 105, 80],\n [75, 125, 70, 125, 70, 115],\n [100, 120, 120, 150, 100, 90],\n [90, 120, 100, 150, 120, 100],\n [91, 90, 106, 130, 106, 77],\n [110, 160, 110, 80, 110, 100],\n [150, 100, 120, 100, 120, 90],\n [150, 120, 100, 120, 100, 90],\n [120, 70, 120, 75, 130, 85],\n [80, 80, 80, 80, 80, 80],\n [100, 100, 100, 100, 100, 100],\n [70, 90, 90, 135, 90, 125],\n [100, 100, 100, 100, 100, 100],\n [100, 103, 75, 120, 75, 127],\n [120, 120, 120, 120, 120, 120],\n [100, 100, 100, 100, 100, 100],\n [45, 45, 55, 45, 55, 63],\n [60, 60, 75, 60, 75, 83],\n [75, 75, 95, 75, 95, 113],\n [65, 63, 45, 45, 45, 45],\n [90, 93, 55, 70, 55, 55],\n [110, 123, 65, 100, 65, 65],\n [55, 55, 45, 63, 45, 45],\n [75, 75, 60, 83, 60, 60],\n [95, 100, 85, 108, 70, 70],\n [45, 55, 39, 35, 39, 42],\n [60, 85, 69, 60, 69, 77],\n [45, 60, 45, 25, 45, 55],\n [65, 80, 65, 35, 65, 60],\n [85, 110, 90, 45, 90, 80],\n [41, 50, 37, 50, 37, 66],\n [64, 88, 50, 88, 50, 106],\n [50, 53, 48, 53, 48, 64],\n [75, 98, 63, 98, 63, 101],\n [50, 53, 48, 53, 48, 64],\n [75, 98, 63, 98, 63, 101],\n [50, 53, 48, 53, 48, 64],\n [75, 98, 63, 98, 63, 101],\n [76, 25, 45, 67, 55, 24],\n [116, 55, 85, 107, 95, 29],\n [50, 55, 50, 36, 30, 43],\n [62, 77, 62, 50, 42, 65],\n [80, 115, 80, 65, 55, 93],\n [45, 60, 32, 50, 32, 76],\n [75, 100, 63, 80, 63, 116],\n [55, 75, 85, 25, 25, 15],\n [70, 105, 105, 50, 40, 20],\n [85, 135, 130, 60, 80, 25],\n [55, 45, 43, 55, 43, 72],\n [67, 57, 55, 77, 55, 114],\n [60, 85, 40, 30, 45, 68],\n [110, 135, 60, 50, 65, 88],\n [103, 60, 86, 60, 86, 50],\n [103, 60, 126, 80, 126, 50],\n [75, 80, 55, 25, 35, 35],\n [85, 105, 85, 40, 50, 40],\n [105, 140, 95, 55, 65, 45],\n [50, 50, 40, 50, 40, 64],\n [75, 65, 55, 65, 55, 69],\n [105, 95, 75, 85, 75, 74],\n [120, 100, 85, 30, 85, 45],\n [75, 125, 75, 30, 75, 85],\n [45, 53, 70, 40, 60, 42],\n [55, 63, 90, 50, 80, 42],\n [75, 103, 80, 70, 80, 92],\n [30, 45, 59, 30, 39, 57],\n [40, 55, 99, 40, 79, 47],\n [60, 100, 89, 55, 69, 112],\n [40, 27, 60, 37, 50, 66],\n [60, 67, 85, 77, 75, 116],\n [45, 35, 50, 70, 50, 30],\n [70, 60, 75, 110, 75, 90],\n [70, 92, 65, 80, 55, 98],\n [50, 72, 35, 35, 35, 65],\n [60, 82, 45, 45, 45, 74],\n [95, 117, 80, 65, 70, 92],\n [70, 90, 45, 15, 45, 50],\n [105, 140, 55, 30, 55, 95],\n [105, 30, 105, 140, 105, 55],\n [75, 86, 67, 106, 67, 60],\n [50, 65, 85, 35, 35, 55],\n [70, 95, 125, 65, 75, 45],\n [50, 75, 70, 35, 70, 48],\n [65, 90, 115, 45, 115, 58],\n [72, 58, 80, 103, 80, 97],\n [38, 30, 85, 55, 65, 30],\n [58, 50, 145, 95, 105, 30],\n [54, 78, 103, 53, 45, 22],\n [74, 108, 133, 83, 65, 32],\n [55, 112, 45, 74, 45, 70],\n [75, 140, 65, 112, 65, 110],\n [50, 50, 62, 40, 62, 65],\n [80, 95, 82, 60, 82, 75],\n [40, 65, 40, 80, 40, 65],\n [60, 105, 60, 120, 60, 105],\n [55, 50, 40, 40, 40, 75],\n [75, 95, 60, 65, 60, 115],\n [45, 30, 50, 55, 65, 45],\n [60, 45, 70, 75, 85, 55],\n [70, 55, 95, 95, 110, 65],\n [45, 30, 40, 105, 50, 20],\n [65, 40, 50, 125, 60, 30],\n [110, 65, 75, 125, 85, 30],\n [62, 44, 50, 44, 50, 55],\n [75, 87, 63, 87, 63, 98],\n [36, 50, 50, 65, 60, 44],\n [51, 65, 65, 80, 75, 59],\n [71, 95, 85, 110, 95, 79],\n [60, 60, 50, 40, 50, 75],\n [80, 100, 70, 60, 70, 95],\n [55, 75, 60, 75, 60, 103],\n [50, 75, 45, 40, 45, 60],\n [70, 135, 105, 60, 105, 20],\n [69, 55, 45, 55, 55, 15],\n [114, 85, 70, 85, 80, 30],\n [55, 40, 50, 65, 85, 40],\n [100, 60, 70, 85, 105, 60],\n [165, 75, 80, 40, 45, 65],\n [50, 47, 50, 57, 50, 65],\n [70, 77, 60, 97, 60, 108],\n [44, 50, 91, 24, 86, 10],\n [74, 94, 131, 54, 116, 20],\n [40, 55, 70, 45, 60, 30],\n [60, 80, 95, 70, 85, 50],\n [60, 100, 115, 70, 85, 90],\n [35, 55, 40, 45, 40, 60],\n [65, 85, 70, 75, 70, 40],\n [85, 115, 80, 105, 80, 50],\n [55, 55, 55, 85, 55, 30],\n [75, 75, 75, 125, 95, 40],\n [50, 30, 55, 65, 55, 20],\n [60, 40, 60, 95, 60, 55],\n [60, 55, 90, 145, 90, 80],\n [46, 87, 60, 30, 40, 57],\n [66, 117, 70, 40, 50, 67],\n [76, 147, 90, 60, 70, 97],\n [55, 70, 40, 60, 40, 40],\n [95, 110, 80, 70, 80, 50],\n [70, 50, 30, 95, 135, 105],\n [50, 40, 85, 40, 65, 25],\n [80, 70, 40, 100, 60, 145],\n [109, 66, 84, 81, 99, 32],\n [45, 85, 50, 55, 50, 65],\n [65, 125, 60, 95, 60, 105],\n [77, 120, 90, 60, 90, 48],\n [59, 74, 50, 35, 50, 35],\n [89, 124, 80, 55, 80, 55],\n [45, 85, 70, 40, 40, 60],\n [65, 125, 100, 60, 70, 70],\n [95, 110, 95, 40, 95, 55],\n [70, 83, 50, 37, 50, 60],\n [100, 123, 75, 57, 75, 80],\n [70, 55, 75, 45, 65, 60],\n [110, 65, 105, 55, 95, 80],\n [85, 97, 66, 105, 66, 65],\n [58, 109, 112, 48, 48, 109],\n [52, 65, 50, 45, 50, 38],\n [72, 85, 70, 65, 70, 58],\n [92, 105, 90, 125, 90, 98],\n [55, 85, 55, 50, 55, 60],\n [85, 60, 65, 135, 105, 100],\n [91, 90, 129, 90, 72, 108],\n [91, 129, 90, 72, 90, 108],\n [91, 90, 72, 90, 129, 108],\n [79, 115, 70, 125, 80, 111],\n [79, 100, 80, 110, 90, 121],\n [79, 115, 70, 125, 80, 111],\n [79, 105, 70, 145, 80, 101],\n [100, 120, 100, 150, 120, 90],\n [100, 150, 120, 120, 100, 90],\n [89, 125, 90, 115, 80, 101],\n [89, 145, 90, 105, 80, 91],\n [125, 130, 90, 130, 90, 95],\n [125, 170, 100, 120, 90, 95],\n [125, 120, 90, 170, 100, 95],\n [91, 72, 90, 129, 90, 108],\n [91, 72, 90, 129, 90, 108],\n [100, 77, 77, 128, 128, 90],\n [100, 128, 90, 77, 77, 128],\n [71, 120, 95, 120, 95, 99],\n [56, 61, 65, 48, 45, 38],\n [61, 78, 95, 56, 58, 57],\n [88, 107, 122, 74, 75, 64],\n [40, 45, 40, 62, 60, 60],\n [59, 59, 58, 90, 70, 73],\n [75, 69, 72, 114, 100, 104],\n [41, 56, 40, 62, 44, 71],\n [54, 63, 52, 83, 56, 97],\n [72, 95, 67, 103, 71, 122],\n [38, 36, 38, 32, 36, 57],\n [85, 56, 77, 50, 77, 78],\n [45, 50, 43, 40, 38, 62],\n [62, 73, 55, 56, 52, 84],\n [78, 81, 71, 74, 69, 126],\n [38, 35, 40, 27, 25, 35],\n [45, 22, 60, 27, 30, 29],\n [80, 52, 50, 90, 50, 89],\n [62, 50, 58, 73, 54, 72],\n [86, 68, 72, 109, 66, 106],\n [44, 38, 39, 61, 79, 42],\n [54, 45, 47, 75, 98, 52],\n [78, 65, 68, 112, 154, 75],\n [66, 65, 48, 62, 57, 52],\n [123, 100, 62, 97, 81, 68],\n [67, 82, 62, 46, 48, 43],\n [95, 124, 78, 69, 71, 58],\n [75, 80, 60, 65, 90, 102],\n [62, 48, 54, 63, 60, 68],\n [74, 48, 76, 83, 81, 104],\n [74, 48, 76, 83, 81, 104],\n [45, 80, 100, 35, 37, 28],\n [59, 110, 150, 45, 49, 35],\n [60, 150, 50, 150, 50, 60],\n [60, 50, 150, 50, 150, 60],\n [78, 52, 60, 63, 65, 23],\n [101, 72, 72, 99, 89, 29],\n [62, 48, 66, 59, 57, 49],\n [82, 80, 86, 85, 75, 72],\n [53, 54, 53, 37, 46, 45],\n [86, 92, 88, 68, 75, 73],\n [42, 52, 67, 39, 56, 50],\n [72, 105, 115, 54, 86, 68],\n [50, 60, 60, 60, 60, 30],\n [65, 75, 90, 97, 123, 44],\n [50, 53, 62, 58, 63, 44],\n [71, 73, 88, 120, 89, 59],\n [44, 38, 33, 61, 43, 70],\n [62, 55, 52, 109, 94, 109],\n [58, 89, 77, 45, 45, 48],\n [82, 121, 119, 69, 59, 71],\n [77, 59, 50, 67, 63, 46],\n [123, 77, 72, 99, 92, 58],\n [95, 65, 65, 110, 130, 60],\n [78, 92, 75, 74, 63, 118],\n [67, 58, 57, 81, 67, 101],\n [50, 50, 150, 50, 150, 50],\n [45, 50, 35, 55, 75, 40],\n [68, 75, 53, 83, 113, 60],\n [90, 100, 70, 110, 150, 80],\n [57, 80, 91, 80, 87, 75],\n [43, 70, 48, 50, 60, 38],\n [85, 110, 76, 65, 82, 56],\n [49, 66, 70, 44, 55, 51],\n [44, 66, 70, 44, 55, 56],\n [54, 66, 70, 44, 55, 46],\n [59, 66, 70, 44, 55, 41],\n [65, 90, 122, 58, 75, 84],\n [55, 85, 122, 58, 75, 99],\n [75, 95, 122, 58, 75, 69],\n [85, 100, 122, 58, 75, 54],\n [55, 69, 85, 32, 35, 28],\n [95, 117, 184, 44, 46, 28],\n [40, 30, 35, 45, 40, 55],\n [85, 70, 80, 97, 80, 123],\n [126, 131, 95, 131, 98, 99],\n [126, 131, 95, 131, 98, 99],\n [108, 100, 121, 81, 95, 95],\n [50, 100, 150, 100, 150, 50],\n [50, 160, 110, 160, 110, 110],\n [80, 110, 60, 150, 130, 70],\n [80, 160, 60, 170, 130, 80],\n [80, 110, 120, 130, 90, 70]]"
     },
     "execution_count": 31,
     "metadata": {},
     "output_type": "execute_result"
    }
   ],
   "source": [
    "list(list_df_pokemon_values)"
   ],
   "metadata": {
    "collapsed": false,
    "pycharm": {
     "name": "#%%\n"
    }
   }
  },
  {
   "cell_type": "code",
   "execution_count": 32,
   "outputs": [
    {
     "name": "stdout",
     "output_type": "stream",
     "text": [
      "True\n"
     ]
    }
   ],
   "source": [
    "print(list_df_pokemon_values==pokemon_values)"
   ],
   "metadata": {
    "collapsed": false,
    "pycharm": {
     "name": "#%%\n"
    }
   }
  },
  {
   "cell_type": "markdown",
   "source": [],
   "metadata": {
    "collapsed": false,
    "pycharm": {
     "name": "#%% md\n"
    }
   }
  },
  {
   "cell_type": "markdown",
   "source": [
    "Normalizziamo con pandas"
   ],
   "metadata": {
    "collapsed": false,
    "pycharm": {
     "name": "#%% md\n"
    }
   }
  },
  {
   "cell_type": "code",
   "execution_count": 34,
   "outputs": [
    {
     "name": "stderr",
     "output_type": "stream",
     "text": [
      "C:\\Users\\danie\\AppData\\Local\\Temp\\ipykernel_22264\\3899368093.py:1: FutureWarning: Dropping of nuisance columns in DataFrame reductions (with 'numeric_only=None') is deprecated; in a future version this will raise TypeError.  Select only valid columns before calling the reduction.\n",
      "  df_pokemon.max()\n"
     ]
    },
    {
     "data": {
      "text/plain": "#                          721\nName          Zygarde50% Forme\nType 1                   Water\nTotal                      780\nHP                         255\nAttack                     190\nDefense                    230\nSp. Atk                    194\nSp. Def                    230\nSpeed                      180\nGeneration                   6\nLegendary                 True\ndtype: object"
     },
     "execution_count": 34,
     "metadata": {},
     "output_type": "execute_result"
    }
   ],
   "source": [
    "df_pokemon.max()"
   ],
   "metadata": {
    "collapsed": false,
    "pycharm": {
     "name": "#%%\n"
    }
   }
  },
  {
   "cell_type": "code",
   "execution_count": 35,
   "outputs": [
    {
     "name": "stdout",
     "output_type": "stream",
     "text": [
      "         HP    Attack   Defense   Sp. Atk   Sp. Def     Speed\n",
      "0  0.173228  0.237838  0.195556  0.298913  0.214286  0.228571\n",
      "1  0.232283  0.308108  0.257778  0.380435  0.285714  0.314286\n",
      "2  0.311024  0.416216  0.346667  0.489130  0.380952  0.428571\n",
      "3  0.311024  0.513514  0.524444  0.608696  0.476190  0.428571\n",
      "4  0.149606  0.254054  0.168889  0.271739  0.142857  0.342857\n"
     ]
    }
   ],
   "source": [
    "def df_normalizer(df):\n",
    "  normalized_df=(df-df.min())/(df.max()-df.min())\n",
    "  return normalized_df\n",
    "df_normalized=df_normalizer(df_pokemon[ df_columns])\n",
    "print(df_normalized.head())"
   ],
   "metadata": {
    "collapsed": false,
    "pycharm": {
     "name": "#%%\n"
    }
   }
  },
  {
   "cell_type": "markdown",
   "source": [
    "### Sottoproblema 2.c Trovare i k pokemon più simili utilizzando la funzione di similarità\n",
    "\n",
    "Concetti teorici correlati:\n",
    "- cicli for\n",
    "- strutture dati complesse (liste di tuple?)\n",
    "- sort \n",
    "- funzioni lambda\n",
    "- array slicing"
   ],
   "metadata": {
    "collapsed": false,
    "pycharm": {
     "name": "#%% md\n"
    }
   }
  },
  {
   "cell_type": "markdown",
   "source": [
    "Qui andremo ad unire i pezzi:\n",
    "- Partiamo dall'input dell'utente e creiamo una lista corrispondente ad un pokemon \"fittizio\"\n",
    "- Aggiungiamo al dataset e normalizziamo (ottenendo un dataset normalizzato)\n",
    "- Estraiamo ultima riga (corrispondente al pokemon fittizio)\n",
    "- in un ciclo for calcoliamo le distanze e le inseriamo nella struttura dati complessa\n",
    "- orinamento tramite sort e lambda\n",
    "- estraiamo i primi K elementi"
   ],
   "metadata": {
    "collapsed": false,
    "pycharm": {
     "name": "#%% md\n"
    }
   }
  },
  {
   "cell_type": "code",
   "execution_count": 36,
   "outputs": [],
   "source": [
    "def get_k_neighbors(dataset, element,k=5):\n",
    "  complete_dataset=dataset+[element]\n",
    "  normalized_dataset = normalizer(complete_dataset)\n",
    "  normalized_element=normalized_dataset[-1]\n",
    "  normalized_dataset=normalized_dataset[:-1]\n",
    "  distances=[]\n",
    "  for i,row in enumerate(normalized_dataset):\n",
    "    distance=euclidean_distance(normalized_element,row)\n",
    "    distances.append((i,distance))\n",
    "\n",
    "  distances.sort(key=lambda x : x[1])\n",
    "\n",
    "  return distances[:k]"
   ],
   "metadata": {
    "collapsed": false,
    "pycharm": {
     "name": "#%%\n"
    }
   }
  },
  {
   "cell_type": "code",
   "execution_count": 37,
   "outputs": [],
   "source": [
    "hp=float(input('quale è il valore dei punti vita?\\n'))\n",
    "attack=float(input('quale è il valore di attacco?\\n'))\n",
    "defense=float(input('quale è il valore di difesa?\\n'))\n",
    "sp_atk=float(input(\"quale è il valore dell'attacco speciale?\\n\"))\n",
    "sp_def=float(input(\"quale è il valore della difesa speciale?\\n\"))\n",
    "speed=float(input(\"quale è il valore della velocità?\\n\"))\n",
    "\n"
   ],
   "metadata": {
    "collapsed": false,
    "pycharm": {
     "name": "#%%\n"
    }
   }
  },
  {
   "cell_type": "code",
   "execution_count": 38,
   "outputs": [],
   "source": [
    "our_pokemon=[hp,attack,defense,sp_atk,sp_def,speed]\n",
    "neighbors=get_k_neighbors(pokemon_values,our_pokemon)"
   ],
   "metadata": {
    "collapsed": false,
    "pycharm": {
     "name": "#%%\n"
    }
   }
  },
  {
   "cell_type": "code",
   "execution_count": 39,
   "outputs": [
    {
     "name": "stdout",
     "output_type": "stream",
     "text": [
      "[(143, 0.07332215672924264), (34, 0.07461084055276992), (324, 0.0779805020361919), (563, 0.08310581695328843), (255, 0.08554251618411642)]\n"
     ]
    }
   ],
   "source": [
    "print(neighbors)"
   ],
   "metadata": {
    "collapsed": false,
    "pycharm": {
     "name": "#%%\n"
    }
   }
  },
  {
   "cell_type": "markdown",
   "source": [
    "usiamo pandas"
   ],
   "metadata": {
    "collapsed": false,
    "pycharm": {
     "name": "#%% md\n"
    }
   }
  },
  {
   "cell_type": "code",
   "execution_count": 40,
   "outputs": [],
   "source": [
    "def df_get_k_neighbors(dataset, element, k=5):\n",
    "  df_pokemon_values=dataset[df_columns]\n",
    "  pokemon_index=df_pokemon_values.index.max()+1\n",
    "  pokemon=pd.Series(element,df_columns,name=pokemon_index)\n",
    "  complete_dataset = pd.concat([df_pokemon_values, pd.DataFrame([pokemon,])])\n",
    "  normalized_dataset = df_normalizer(complete_dataset)\n",
    "  normalized_element = normalized_dataset.loc[pokemon_index]\n",
    "  normalized_dataset = normalized_dataset[normalized_dataset.index!=pokemon_index]\n",
    "  normalized_dataset['distance'] = normalized_dataset.apply(lambda row: euclidean_distance(row, normalized_element),axis=1)\n",
    "  normalized_dataset.sort_values('distance',inplace=True)\n",
    "\n",
    "  return normalized_dataset.head(k)[['distance']]\n",
    "\n",
    "\n"
   ],
   "metadata": {
    "collapsed": false,
    "pycharm": {
     "name": "#%%\n"
    }
   }
  },
  {
   "cell_type": "code",
   "execution_count": 41,
   "outputs": [],
   "source": [
    "hp = float(input('quale è il valore dei punti vita?\\n'))\n",
    "attack = float(input('quale è il valore di attacco?\\n'))\n",
    "defense = float(input('quale è il valore di difesa?\\n'))\n",
    "sp_atk = float(input(\"quale è il valore dell'attacco speciale?\\n\"))\n",
    "sp_def = float(input(\"quale è il valore della difesa speciale?\\n\"))\n",
    "speed = float(input(\"quale è il valore della velocità?\\n\"))\n",
    "\n"
   ],
   "metadata": {
    "collapsed": false,
    "pycharm": {
     "name": "#%%\n"
    }
   }
  },
  {
   "cell_type": "code",
   "execution_count": 42,
   "outputs": [
    {
     "name": "stdout",
     "output_type": "stream",
     "text": [
      "     distance\n",
      "143  0.073322\n",
      "34   0.074611\n",
      "324  0.077981\n",
      "563  0.083106\n",
      "255  0.085543\n"
     ]
    }
   ],
   "source": [
    "our_pokemon = [hp, attack, defense, sp_atk, sp_def, speed]\n",
    "df_neighbors = df_get_k_neighbors(df_pokemon, our_pokemon)\n",
    "print(df_neighbors)"
   ],
   "metadata": {
    "collapsed": false,
    "pycharm": {
     "name": "#%%\n"
    }
   }
  },
  {
   "cell_type": "markdown",
   "source": [
    "### Sottoproblema 3 Visualizzare i risultati\n",
    "\n",
    "Concetti teorici correlati:\n",
    "- f-strings\n",
    "- funzioni"
   ],
   "metadata": {
    "collapsed": false,
    "pycharm": {
     "name": "#%% md\n"
    }
   }
  },
  {
   "cell_type": "markdown",
   "source": [],
   "metadata": {
    "collapsed": false,
    "pycharm": {
     "name": "#%% md\n"
    }
   }
  },
  {
   "cell_type": "code",
   "execution_count": 43,
   "outputs": [
    {
     "name": "stdout",
     "output_type": "stream",
     "text": [
      "['#', 'Name', 'Type 1', 'Type 2', 'Total', 'HP', 'Attack', 'Defense', 'Sp. Atk', 'Sp. Def', 'Speed', 'Generation', 'Legendary']\n"
     ]
    }
   ],
   "source": [
    "print(columns)"
   ],
   "metadata": {
    "collapsed": false,
    "pycharm": {
     "name": "#%%\n"
    }
   }
  },
  {
   "cell_type": "code",
   "execution_count": 44,
   "outputs": [],
   "source": [
    "def print_pokemon(index):\n",
    "  s=f'{pokemon_rows[index][0]} - {pokemon_rows[index][1]}, di tipo {pokemon_rows[index][2]}'\n",
    "\n",
    "  if pokemon_rows[index][-1]=='True':\n",
    "    s+=f'\\n - Pokemon Leggendario'\n",
    "  else:\n",
    "    s+=f'\\n - Pokemon Non Leggendario'\n",
    "\n",
    "  for column,value in zip(columns,pokemon_rows[index] ) :\n",
    "    s+=f'\\n{column:10} -> {value:5}'\n",
    "  print(s)"
   ],
   "metadata": {
    "collapsed": false,
    "pycharm": {
     "name": "#%%\n"
    }
   }
  },
  {
   "cell_type": "code",
   "execution_count": 45,
   "outputs": [
    {
     "name": "stdout",
     "output_type": "stream",
     "text": [
      "132 - Ditto, di tipo Normal\n",
      " - Pokemon Non Leggendario\n",
      "#          -> 132  \n",
      "Name       -> Ditto\n",
      "Type 1     -> Normal\n",
      "Type 2     ->      \n",
      "Total      -> 288  \n",
      "HP         -> 48   \n",
      "Attack     -> 48   \n",
      "Defense    -> 48   \n",
      "Sp. Atk    -> 48   \n",
      "Sp. Def    -> 48   \n",
      "Speed      -> 48   \n",
      "Generation -> 1    \n",
      "Legendary  -> False\n",
      "29 - Nidoranâ™€, di tipo Poison\n",
      " - Pokemon Non Leggendario\n",
      "#          -> 29   \n",
      "Name       -> Nidoranâ™€\n",
      "Type 1     -> Poison\n",
      "Type 2     ->      \n",
      "Total      -> 275  \n",
      "HP         -> 55   \n",
      "Attack     -> 47   \n",
      "Defense    -> 52   \n",
      "Sp. Atk    -> 40   \n",
      "Sp. Def    -> 40   \n",
      "Speed      -> 41   \n",
      "Generation -> 1    \n",
      "Legendary  -> False\n",
      "300 - Skitty, di tipo Normal\n",
      " - Pokemon Non Leggendario\n",
      "#          -> 300  \n",
      "Name       -> Skitty\n",
      "Type 1     -> Normal\n",
      "Type 2     ->      \n",
      "Total      -> 260  \n",
      "HP         -> 50   \n",
      "Attack     -> 45   \n",
      "Defense    -> 45   \n",
      "Sp. Atk    -> 35   \n",
      "Sp. Def    -> 35   \n",
      "Speed      -> 50   \n",
      "Generation -> 3    \n",
      "Legendary  -> False\n",
      "504 - Patrat, di tipo Normal\n",
      " - Pokemon Non Leggendario\n",
      "#          -> 504  \n",
      "Name       -> Patrat\n",
      "Type 1     -> Normal\n",
      "Type 2     ->      \n",
      "Total      -> 255  \n",
      "HP         -> 45   \n",
      "Attack     -> 55   \n",
      "Defense    -> 39   \n",
      "Sp. Atk    -> 35   \n",
      "Sp. Def    -> 39   \n",
      "Speed      -> 42   \n",
      "Generation -> 5    \n",
      "Legendary  -> False\n",
      "236 - Tyrogue, di tipo Fighting\n",
      " - Pokemon Non Leggendario\n",
      "#          -> 236  \n",
      "Name       -> Tyrogue\n",
      "Type 1     -> Fighting\n",
      "Type 2     ->      \n",
      "Total      -> 210  \n",
      "HP         -> 35   \n",
      "Attack     -> 35   \n",
      "Defense    -> 35   \n",
      "Sp. Atk    -> 35   \n",
      "Sp. Def    -> 35   \n",
      "Speed      -> 35   \n",
      "Generation -> 2    \n",
      "Legendary  -> False\n"
     ]
    }
   ],
   "source": [
    "for n in neighbors:\n",
    "  print_pokemon(n[0])"
   ],
   "metadata": {
    "collapsed": false,
    "pycharm": {
     "name": "#%%\n"
    }
   }
  },
  {
   "cell_type": "markdown",
   "source": [
    "con pandas"
   ],
   "metadata": {
    "collapsed": false,
    "pycharm": {
     "name": "#%% md\n"
    }
   }
  },
  {
   "cell_type": "code",
   "execution_count": 46,
   "outputs": [],
   "source": [
    "def print_pokemon(index):\n",
    "  s=f'{df_pokemon.loc[index,\"#\"]} - {df_pokemon.loc[index,\"Name\"]}, di tipo {df_pokemon.loc[index,\"Type 1\"]}'\n",
    "\n",
    "  if df_pokemon.loc[index,\"Legendary\"]:\n",
    "    s+=f'\\n - Pokemon Leggendario'\n",
    "  else:\n",
    "    s+=f'\\n - Pokemon Non Leggendario'\n",
    "\n",
    "  for column in df_pokemon.columns :\n",
    "    s+=f'\\n{column:10} -> {df_pokemon.loc[index,column]:5}'\n",
    "  print(s)"
   ],
   "metadata": {
    "collapsed": false,
    "pycharm": {
     "name": "#%%\n"
    }
   }
  },
  {
   "cell_type": "code",
   "execution_count": 47,
   "outputs": [
    {
     "name": "stdout",
     "output_type": "stream",
     "text": [
      "132 - Ditto, di tipo Normal\n",
      " - Pokemon Non Leggendario\n",
      "#          ->   132\n",
      "Name       -> Ditto\n",
      "Type 1     -> Normal\n",
      "Type 2     ->   nan\n",
      "Total      ->   288\n",
      "HP         ->    48\n",
      "Attack     ->    48\n",
      "Defense    ->    48\n",
      "Sp. Atk    ->    48\n",
      "Sp. Def    ->    48\n",
      "Speed      ->    48\n",
      "Generation ->     1\n",
      "Legendary  ->     0\n",
      "29 - Nidoran♀, di tipo Poison\n",
      " - Pokemon Non Leggendario\n",
      "#          ->    29\n",
      "Name       -> Nidoran♀\n",
      "Type 1     -> Poison\n",
      "Type 2     ->   nan\n",
      "Total      ->   275\n",
      "HP         ->    55\n",
      "Attack     ->    47\n",
      "Defense    ->    52\n",
      "Sp. Atk    ->    40\n",
      "Sp. Def    ->    40\n",
      "Speed      ->    41\n",
      "Generation ->     1\n",
      "Legendary  ->     0\n",
      "300 - Skitty, di tipo Normal\n",
      " - Pokemon Non Leggendario\n",
      "#          ->   300\n",
      "Name       -> Skitty\n",
      "Type 1     -> Normal\n",
      "Type 2     ->   nan\n",
      "Total      ->   260\n",
      "HP         ->    50\n",
      "Attack     ->    45\n",
      "Defense    ->    45\n",
      "Sp. Atk    ->    35\n",
      "Sp. Def    ->    35\n",
      "Speed      ->    50\n",
      "Generation ->     3\n",
      "Legendary  ->     0\n",
      "504 - Patrat, di tipo Normal\n",
      " - Pokemon Non Leggendario\n",
      "#          ->   504\n",
      "Name       -> Patrat\n",
      "Type 1     -> Normal\n",
      "Type 2     ->   nan\n",
      "Total      ->   255\n",
      "HP         ->    45\n",
      "Attack     ->    55\n",
      "Defense    ->    39\n",
      "Sp. Atk    ->    35\n",
      "Sp. Def    ->    39\n",
      "Speed      ->    42\n",
      "Generation ->     5\n",
      "Legendary  ->     0\n",
      "236 - Tyrogue, di tipo Fighting\n",
      " - Pokemon Non Leggendario\n",
      "#          ->   236\n",
      "Name       -> Tyrogue\n",
      "Type 1     -> Fighting\n",
      "Type 2     ->   nan\n",
      "Total      ->   210\n",
      "HP         ->    35\n",
      "Attack     ->    35\n",
      "Defense    ->    35\n",
      "Sp. Atk    ->    35\n",
      "Sp. Def    ->    35\n",
      "Speed      ->    35\n",
      "Generation ->     2\n",
      "Legendary  ->     0\n"
     ]
    }
   ],
   "source": [
    "for n in df_neighbors.index:\n",
    "  print_pokemon(n)"
   ],
   "metadata": {
    "collapsed": false,
    "pycharm": {
     "name": "#%%\n"
    }
   }
  },
  {
   "cell_type": "markdown",
   "source": [
    "### Visualizzare i Pokemon\n"
   ],
   "metadata": {
    "collapsed": false,
    "pycharm": {
     "name": "#%% md\n"
    }
   }
  },
  {
   "cell_type": "code",
   "execution_count": 48,
   "outputs": [],
   "source": [
    "from IPython.display import Image"
   ],
   "metadata": {
    "collapsed": false,
    "pycharm": {
     "name": "#%%\n"
    }
   }
  },
  {
   "cell_type": "code",
   "execution_count": 49,
   "outputs": [
    {
     "name": "stdout",
     "output_type": "stream",
     "text": [
      "--------------------------------------------------\n",
      "1\n",
      "Ditto\n"
     ]
    },
    {
     "data": {
      "image/jpeg": "[encoded data removed]",
      "text/plain": "<IPython.core.display.Image object>"
     },
     "metadata": {
      "image/jpeg": {
       "width": 150
      }
     },
     "output_type": "display_data"
    },
    {
     "name": "stdout",
     "output_type": "stream",
     "text": [
      "--------------------------------------------------\n",
      "--------------------------------------------------\n",
      "2\n",
      "Nidoranâ™€\n"
     ]
    },
    {
     "data": {
      "image/jpeg": "[encoded data removed]",
      "text/plain": "<IPython.core.display.Image object>"
     },
     "metadata": {
      "image/jpeg": {
       "width": 150
      }
     },
     "output_type": "display_data"
    },
    {
     "name": "stdout",
     "output_type": "stream",
     "text": [
      "--------------------------------------------------\n",
      "--------------------------------------------------\n",
      "3\n",
      "Skitty\n"
     ]
    },
    {
     "data": {
      "image/jpeg": "[encoded data removed]",
      "text/plain": "<IPython.core.display.Image object>"
     },
     "metadata": {
      "image/jpeg": {
       "width": 150
      }
     },
     "output_type": "display_data"
    },
    {
     "name": "stdout",
     "output_type": "stream",
     "text": [
      "--------------------------------------------------\n",
      "--------------------------------------------------\n",
      "4\n",
      "Patrat\n"
     ]
    },
    {
     "data": {
      "image/jpeg": "[encoded data removed]",
      "text/plain": "<IPython.core.display.Image object>"
     },
     "metadata": {
      "image/jpeg": {
       "width": 150
      }
     },
     "output_type": "display_data"
    },
    {
     "name": "stdout",
     "output_type": "stream",
     "text": [
      "--------------------------------------------------\n",
      "--------------------------------------------------\n",
      "5\n",
      "Tyrogue\n"
     ]
    },
    {
     "data": {
      "image/jpeg": "[encoded data removed]",
      "text/plain": "<IPython.core.display.Image object>"
     },
     "metadata": {
      "image/jpeg": {
       "width": 150
      }
     },
     "output_type": "display_data"
    },
    {
     "name": "stdout",
     "output_type": "stream",
     "text": [
      "--------------------------------------------------\n"
     ]
    }
   ],
   "source": [
    "for n,p in enumerate(neighbors):\n",
    "  index=p[0]\n",
    "  print('-'*50)\n",
    "  print(n+1)\n",
    "  print(pokemon_rows[index][1])\n",
    "  display(Image(f\"resized/{pokemon_rows[index][0]}.jpg\",width=150)),\n",
    "  print('-'*50)"
   ],
   "metadata": {
    "collapsed": false,
    "pycharm": {
     "name": "#%%\n"
    }
   }
  },
  {
   "cell_type": "markdown",
   "source": [
    "con pandas"
   ],
   "metadata": {
    "collapsed": false,
    "pycharm": {
     "name": "#%% md\n"
    }
   }
  },
  {
   "cell_type": "code",
   "execution_count": 50,
   "outputs": [
    {
     "name": "stdout",
     "output_type": "stream",
     "text": [
      "--------------------------------------------------\n",
      "1\n",
      "Ditto\n"
     ]
    },
    {
     "data": {
      "image/jpeg": "[encoded data removed]",
      "text/plain": "<IPython.core.display.Image object>"
     },
     "metadata": {
      "image/jpeg": {
       "width": 150
      }
     },
     "output_type": "display_data"
    },
    {
     "name": "stdout",
     "output_type": "stream",
     "text": [
      "--------------------------------------------------\n",
      "--------------------------------------------------\n",
      "2\n",
      "Nidoranâ™€\n"
     ]
    },
    {
     "data": {
      "image/jpeg": "[encoded data removed]",
      "text/plain": "<IPython.core.display.Image object>"
     },
     "metadata": {
      "image/jpeg": {
       "width": 150
      }
     },
     "output_type": "display_data"
    },
    {
     "name": "stdout",
     "output_type": "stream",
     "text": [
      "--------------------------------------------------\n",
      "--------------------------------------------------\n",
      "3\n",
      "Skitty\n"
     ]
    },
    {
     "data": {
      "image/jpeg": "[encoded data removed]",
      "text/plain": "<IPython.core.display.Image object>"
     },
     "metadata": {
      "image/jpeg": {
       "width": 150
      }
     },
     "output_type": "display_data"
    },
    {
     "name": "stdout",
     "output_type": "stream",
     "text": [
      "--------------------------------------------------\n",
      "--------------------------------------------------\n",
      "4\n",
      "Patrat\n"
     ]
    },
    {
     "data": {
      "image/jpeg": "[encoded data removed]",
      "text/plain": "<IPython.core.display.Image object>"
     },
     "metadata": {
      "image/jpeg": {
       "width": 150
      }
     },
     "output_type": "display_data"
    },
    {
     "name": "stdout",
     "output_type": "stream",
     "text": [
      "--------------------------------------------------\n",
      "--------------------------------------------------\n",
      "5\n",
      "Tyrogue\n"
     ]
    },
    {
     "data": {
      "image/jpeg": "[encoded data removed]",
      "text/plain": "<IPython.core.display.Image object>"
     },
     "metadata": {
      "image/jpeg": {
       "width": 150
      }
     },
     "output_type": "display_data"
    },
    {
     "name": "stdout",
     "output_type": "stream",
     "text": [
      "--------------------------------------------------\n"
     ]
    }
   ],
   "source": [
    "\n",
    "\n",
    "for n,p in enumerate(df_neighbors.index):\n",
    "  index=p\n",
    "  print('-'*50)\n",
    "  print(n+1)\n",
    "  print(pokemon_rows[index][1])\n",
    "  display(Image(f\"resized/{pokemon_rows[index][0]}.jpg\",width=150)),\n",
    "  print('-'*50)"
   ],
   "metadata": {
    "collapsed": false,
    "pycharm": {
     "name": "#%%\n"
    }
   }
  },
  {
   "cell_type": "code",
   "source": [
    "print(type(risultato))"
   ],
   "metadata": {
    "colab": {
     "base_uri": "https://localhost:8080/"
    },
    "id": "yzUqPzI0iUva",
    "outputId": "2fc0dde2-3f64-4061-97c9-81c00f72d0a9",
    "pycharm": {
     "name": "#%%\n"
    }
   },
   "id": "yzUqPzI0iUva",
   "execution_count": 50,
   "outputs": []
  },
  {
   "cell_type": "code",
   "source": [
    "risultato=int(risultato)"
   ],
   "metadata": {
    "id": "88S-aITUidPh",
    "pycharm": {
     "name": "#%%\n"
    }
   },
   "id": "88S-aITUidPh",
   "execution_count": 12,
   "outputs": []
  },
  {
   "cell_type": "code",
   "source": [
    "print(type(risultato))"
   ],
   "metadata": {
    "colab": {
     "base_uri": "https://localhost:8080/"
    },
    "id": "JX2lBam8ih3Y",
    "outputId": "8a6cfcf6-cedc-48d1-c84c-757e492b5280",
    "pycharm": {
     "name": "#%%\n"
    }
   },
   "id": "JX2lBam8ih3Y",
   "execution_count": 13,
   "outputs": [
    {
     "output_type": "stream",
     "name": "stdout",
     "text": [
      "<class 'int'>\n"
     ]
    }
   ]
  },
  {
   "cell_type": "code",
   "execution_count": 14,
   "id": "e5f6e516",
   "metadata": {
    "id": "e5f6e516",
    "pycharm": {
     "name": "#%%\n"
    }
   },
   "outputs": [],
   "source": [
    "# Qui andremo a prendere 6 input dall'utente e a trasformarli in variabili float"
   ]
  },
  {
   "cell_type": "code",
   "source": [
    "hp=input('quale è il valore dei punti vita?\\n')\n",
    "attack=input('quale è il valore di attacco?\\n')\n",
    "defense=input('quale è il valore di difesa?\\n')\n",
    "sp_atk=input(\"quale è il valore dell'attacco speciale?\\n\")\n",
    "sp_def=input(\"quale è il valore della difesa speciale?\\n\")\n",
    "speed=input(\"quale è il valore della velocità?\\n\")\n"
   ],
   "metadata": {
    "colab": {
     "base_uri": "https://localhost:8080/"
    },
    "id": "w--s70OWi26B",
    "outputId": "28ea84c7-09b5-4420-833c-fadff8800895",
    "pycharm": {
     "name": "#%%\n"
    }
   },
   "id": "w--s70OWi26B",
   "execution_count": 15,
   "outputs": [
    {
     "name": "stdout",
     "output_type": "stream",
     "text": [
      "quale è il valore dei punti vita?\n",
      "45\n",
      "quale è il valore di attacco?\n",
      "65\n",
      "quale è il valore di difesa?\n",
      "75\n",
      "quale è il valore dell'attacco speciale?\n",
      "45\n",
      "quale è il valore della difesa speciale?\n",
      "65\n",
      "quale è il valore della velocità?\n",
      "75\n"
     ]
    }
   ]
  },
  {
   "cell_type": "code",
   "source": [
    "print('punti vita',hp)\n",
    "print('attacco',attack)\n",
    "print('difesa',defense)\n",
    "print('attacco speciale',sp_atk)\n",
    "print('difesa speciale',sp_def)\n",
    "print('velocità',speed)"
   ],
   "metadata": {
    "colab": {
     "base_uri": "https://localhost:8080/"
    },
    "id": "yOF-9eBTkHJj",
    "outputId": "38baca0a-9479-4640-86fc-577a23507335",
    "pycharm": {
     "name": "#%%\n"
    }
   },
   "id": "yOF-9eBTkHJj",
   "execution_count": 16,
   "outputs": [
    {
     "output_type": "stream",
     "name": "stdout",
     "text": [
      "punti vita 45\n",
      "attacco 65\n",
      "difesa 75\n",
      "attacco speciale 45\n",
      "difesa speciale 65\n",
      "velocità 75\n"
     ]
    }
   ]
  },
  {
   "cell_type": "markdown",
   "id": "f651e5f2",
   "metadata": {
    "id": "f651e5f2",
    "pycharm": {
     "name": "#%% md\n"
    }
   },
   "source": [
    "### Sottoproblema 2.a Leggere dal dataset tutti i dati relativi ai Pokemon\n",
    "\n",
    "Concetti teorici correlati:\n",
    "- liste e accesso ai loro elementi\n",
    "- cicli for per scorrere le liste\n",
    "- matrici\n",
    "- file CSV e loro lettura\n",
    "- apertura e lettura di un file in Python\n",
    "- dataset\n",
    "- introduzione alle f-strings (?)"
   ]
  },
  {
   "cell_type": "code",
   "source": [
    "import os \n",
    "from google.colab import drive\n",
    "drive.mount('/content/drive')\n",
    "os.chdir('/content/drive/My Drive/beginners')\n"
   ],
   "metadata": {
    "colab": {
     "base_uri": "https://localhost:8080/"
    },
    "id": "RHXroU5qkBpb",
    "outputId": "d0ffdc0f-a0b4-45bb-817c-1ff93a605b59",
    "pycharm": {
     "name": "#%%\n"
    }
   },
   "id": "RHXroU5qkBpb",
   "execution_count": 17,
   "outputs": [
    {
     "output_type": "stream",
     "name": "stdout",
     "text": [
      "Mounted at /content/drive\n"
     ]
    }
   ]
  },
  {
   "cell_type": "code",
   "source": [
    "lista_interi=[1,2,3,4]\n",
    "lista_stringhe=['a','s','ciao']\n",
    "lista_mista=['a',3,6,3.14,'casa']\n"
   ],
   "metadata": {
    "id": "OJVJUg6hqVqE",
    "pycharm": {
     "name": "#%%\n"
    }
   },
   "id": "OJVJUg6hqVqE",
   "execution_count": 18,
   "outputs": []
  },
  {
   "cell_type": "code",
   "source": [
    "print(lista_interi)\n",
    "lista_interi.append(9)\n",
    "print(lista_interi)"
   ],
   "metadata": {
    "colab": {
     "base_uri": "https://localhost:8080/"
    },
    "id": "fU2slnroqwwB",
    "outputId": "a09c6925-a833-4584-d9c2-45537043015c",
    "pycharm": {
     "name": "#%%\n"
    }
   },
   "id": "fU2slnroqwwB",
   "execution_count": 19,
   "outputs": [
    {
     "output_type": "stream",
     "name": "stdout",
     "text": [
      "[1, 2, 3, 4]\n",
      "[1, 2, 3, 4, 9]\n"
     ]
    }
   ]
  },
  {
   "cell_type": "code",
   "source": [
    "print(lista_interi[-2])"
   ],
   "metadata": {
    "colab": {
     "base_uri": "https://localhost:8080/"
    },
    "id": "sz8BOSMqrCfD",
    "outputId": "f62f4fb9-dda5-41cc-8df3-4db0dcc873a5",
    "pycharm": {
     "name": "#%%\n"
    }
   },
   "id": "sz8BOSMqrCfD",
   "execution_count": 20,
   "outputs": [
    {
     "output_type": "stream",
     "name": "stdout",
     "text": [
      "4\n"
     ]
    }
   ]
  },
  {
   "cell_type": "code",
   "source": [
    "for element in lista_interi:\n",
    "  print(element)"
   ],
   "metadata": {
    "colab": {
     "base_uri": "https://localhost:8080/"
    },
    "id": "hivm3FWRrbfl",
    "outputId": "25275e3b-210f-4e8b-89a5-a077549756dc",
    "pycharm": {
     "name": "#%%\n"
    }
   },
   "id": "hivm3FWRrbfl",
   "execution_count": 21,
   "outputs": [
    {
     "output_type": "stream",
     "name": "stdout",
     "text": [
      "1\n",
      "2\n",
      "3\n",
      "4\n",
      "9\n"
     ]
    }
   ]
  },
  {
   "cell_type": "code",
   "source": [
    "s=''\n",
    "for element in lista_stringhe:\n",
    "  s+=' '+ element\n",
    "print(s)"
   ],
   "metadata": {
    "colab": {
     "base_uri": "https://localhost:8080/"
    },
    "id": "RSF4RyvvrrRg",
    "outputId": "e7b957fb-2715-4ef6-e913-feb0aafcef50",
    "pycharm": {
     "name": "#%%\n"
    }
   },
   "id": "RSF4RyvvrrRg",
   "execution_count": 22,
   "outputs": [
    {
     "output_type": "stream",
     "name": "stdout",
     "text": [
      " a s ciao\n"
     ]
    }
   ]
  },
  {
   "cell_type": "code",
   "source": [
    "for i in range(len(lista_interi)):\n",
    "  print(lista_interi[i])"
   ],
   "metadata": {
    "colab": {
     "base_uri": "https://localhost:8080/"
    },
    "id": "evre0ZXcsAyP",
    "outputId": "6e0247d4-0de0-41e9-eac2-b5bea8e61375",
    "pycharm": {
     "name": "#%%\n"
    }
   },
   "id": "evre0ZXcsAyP",
   "execution_count": 23,
   "outputs": [
    {
     "output_type": "stream",
     "name": "stdout",
     "text": [
      "1\n",
      "2\n",
      "3\n",
      "4\n",
      "9\n"
     ]
    }
   ]
  },
  {
   "cell_type": "code",
   "source": [
    "for a in enumerate(lista_interi):\n",
    "  print(a)"
   ],
   "metadata": {
    "colab": {
     "base_uri": "https://localhost:8080/"
    },
    "id": "X32-idQ7sgrn",
    "outputId": "e8773691-04da-4fbc-bdff-3fc2c0d1a910",
    "pycharm": {
     "name": "#%%\n"
    }
   },
   "id": "X32-idQ7sgrn",
   "execution_count": 24,
   "outputs": [
    {
     "output_type": "stream",
     "name": "stdout",
     "text": [
      "(0, 1)\n",
      "(1, 2)\n",
      "(2, 3)\n",
      "(3, 4)\n",
      "(4, 9)\n"
     ]
    }
   ]
  },
  {
   "cell_type": "code",
   "source": [
    "lista_1=['f',2,3,4,5]\n",
    "lista_2=['a','b','c','d','e']\n",
    "for numero ,lettera in zip(lista_1,lista_2):\n",
    "  print(numero,lettera)"
   ],
   "metadata": {
    "colab": {
     "base_uri": "https://localhost:8080/"
    },
    "id": "zdsY06Gws2M0",
    "outputId": "50df5fda-f178-4176-e148-3e6ea5085be3",
    "pycharm": {
     "name": "#%%\n"
    }
   },
   "id": "zdsY06Gws2M0",
   "execution_count": 25,
   "outputs": [
    {
     "output_type": "stream",
     "name": "stdout",
     "text": [
      "f a\n",
      "2 b\n",
      "3 c\n",
      "4 d\n",
      "5 e\n"
     ]
    }
   ]
  },
  {
   "cell_type": "code",
   "source": [
    "matrice=[[1,2,3],[4,5,6],[7,8,9],[10,11,12]]\n",
    "for row in matrice:\n",
    "  for element in row:\n",
    "    print(element)\n",
    "  print('fine riga')"
   ],
   "metadata": {
    "colab": {
     "base_uri": "https://localhost:8080/"
    },
    "id": "xyrTP6Q-tnsl",
    "outputId": "b0ddfc58-e117-41b1-bbf7-51f2e8793162",
    "pycharm": {
     "name": "#%%\n"
    }
   },
   "id": "xyrTP6Q-tnsl",
   "execution_count": 26,
   "outputs": [
    {
     "output_type": "stream",
     "name": "stdout",
     "text": [
      "1\n",
      "2\n",
      "3\n",
      "fine riga\n",
      "4\n",
      "5\n",
      "6\n",
      "fine riga\n",
      "7\n",
      "8\n",
      "9\n",
      "fine riga\n",
      "10\n",
      "11\n",
      "12\n",
      "fine riga\n"
     ]
    }
   ]
  },
  {
   "cell_type": "code",
   "source": [
    "tupla=(5)"
   ],
   "metadata": {
    "id": "JJI5OX5vuMnY",
    "pycharm": {
     "name": "#%%\n"
    }
   },
   "id": "JJI5OX5vuMnY",
   "execution_count": 27,
   "outputs": []
  },
  {
   "cell_type": "code",
   "execution_count": 28,
   "id": "de455a7c",
   "metadata": {
    "id": "de455a7c",
    "pycharm": {
     "name": "#%%\n"
    }
   },
   "outputs": [],
   "source": [
    "# Qui andremo ad aprire il dataset dei pokemon e ad assegnarlo ad una variabile"
   ]
  },
  {
   "cell_type": "code",
   "source": [
    "import csv"
   ],
   "metadata": {
    "id": "4pJ0KF_L2FxP",
    "pycharm": {
     "name": "#%%\n"
    }
   },
   "id": "4pJ0KF_L2FxP",
   "execution_count": 29,
   "outputs": []
  },
  {
   "cell_type": "code",
   "source": [
    "file=open('pokemon.csv','r')\n",
    "reader=csv.reader(file)\n",
    "columns=next(reader)\n",
    "print(columns)\n",
    "for row in reader:\n",
    "  print(row)\n",
    "  break"
   ],
   "metadata": {
    "colab": {
     "base_uri": "https://localhost:8080/"
    },
    "id": "QBLoaB0G20cn",
    "outputId": "0175e5d3-c172-4f5d-f186-f242e42b87cd",
    "pycharm": {
     "name": "#%%\n"
    }
   },
   "id": "QBLoaB0G20cn",
   "execution_count": 30,
   "outputs": [
    {
     "output_type": "stream",
     "name": "stdout",
     "text": [
      "['#', 'Name', 'Type 1', 'Type 2', 'Total', 'HP', 'Attack', 'Defense', 'Sp. Atk', 'Sp. Def', 'Speed', 'Generation', 'Legendary']\n",
      "['1', 'Bulbasaur', 'Grass', 'Poison', '318', '45', '49', '49', '65', '65', '45', '1', 'False']\n"
     ]
    }
   ]
  },
  {
   "cell_type": "code",
   "source": [
    "file.close()"
   ],
   "metadata": {
    "id": "86h8ugz-3u_g",
    "pycharm": {
     "name": "#%%\n"
    }
   },
   "id": "86h8ugz-3u_g",
   "execution_count": 31,
   "outputs": []
  },
  {
   "cell_type": "code",
   "source": [
    "pokemon_rows=[]\n",
    "with open('pokemon.csv','r') as file2:\n",
    "  reader=csv.reader(file2)\n",
    "  columns=next(reader)\n",
    "  print(columns)\n",
    "  for row in reader:\n",
    "    pokemon_rows.append(row)\n",
    "    \n"
   ],
   "metadata": {
    "colab": {
     "base_uri": "https://localhost:8080/"
    },
    "id": "viEJXI7q3y4O",
    "outputId": "c3a5bba1-ccfe-4746-fb82-b9de9bcd1385",
    "pycharm": {
     "name": "#%%\n"
    }
   },
   "id": "viEJXI7q3y4O",
   "execution_count": 32,
   "outputs": [
    {
     "output_type": "stream",
     "name": "stdout",
     "text": [
      "['#', 'Name', 'Type 1', 'Type 2', 'Total', 'HP', 'Attack', 'Defense', 'Sp. Atk', 'Sp. Def', 'Speed', 'Generation', 'Legendary']\n"
     ]
    }
   ]
  },
  {
   "cell_type": "code",
   "source": [
    "print(pokemon_rows[-1])"
   ],
   "metadata": {
    "colab": {
     "base_uri": "https://localhost:8080/"
    },
    "id": "hnMcEfM-4S1p",
    "outputId": "ab275156-25d3-4866-e710-0528fe27a4bb",
    "pycharm": {
     "name": "#%%\n"
    }
   },
   "id": "hnMcEfM-4S1p",
   "execution_count": 33,
   "outputs": [
    {
     "output_type": "stream",
     "name": "stdout",
     "text": [
      "['721', 'Volcanion', 'Fire', 'Water', '600', '80', '110', '120', '130', '90', '70', '6', 'True']\n"
     ]
    }
   ]
  },
  {
   "cell_type": "markdown",
   "id": "1dfcb3d7",
   "metadata": {
    "id": "1dfcb3d7",
    "pycharm": {
     "name": "#%% md\n"
    }
   },
   "source": [
    "### Sottoproblema 2.b Utilizzare una funzione per stabilire un grado di similarità\n",
    "\n",
    "Concetti teorici correlati:\n",
    "- espressioni matematiche più complesse e precedenza degli operatori\n",
    "- modulo math\n",
    "- funzioni\n",
    "  - input/output di una funzione\n",
    "  - argomenti"
   ]
  },
  {
   "cell_type": "code",
   "execution_count": 34,
   "id": "22cfa495",
   "metadata": {
    "id": "22cfa495",
    "pycharm": {
     "name": "#%%\n"
    }
   },
   "outputs": [],
   "source": [
    "# Qui andremo a creare e testare le funzioni per\n",
    "# - calcolo della distanza euclidea\n",
    "# - normalizzazione\n",
    "# Inoltre ci andremo a prendere le colonne con i soli valori numerici dal dataset"
   ]
  },
  {
   "cell_type": "code",
   "source": [
    "p1=(5,8)\n",
    "p2=(5,6)"
   ],
   "metadata": {
    "id": "qTrTHE1D70Ne",
    "pycharm": {
     "name": "#%%\n"
    }
   },
   "id": "qTrTHE1D70Ne",
   "execution_count": 35,
   "outputs": []
  },
  {
   "cell_type": "code",
   "source": [
    "def euclidean_distance(p,q):\n",
    "  distance=0\n",
    "  for px,qx in zip(p,q):\n",
    "    distance+=(px-qx)**2\n",
    "  distance = distance**(1/2)\n",
    "  return distance\n",
    "\n",
    "print(euclidean_distance(p1,p2))"
   ],
   "metadata": {
    "colab": {
     "base_uri": "https://localhost:8080/"
    },
    "id": "iIiRg3sk7-6m",
    "outputId": "1b708370-fa40-49e6-a542-22567a2c0c1d",
    "pycharm": {
     "name": "#%%\n"
    }
   },
   "id": "iIiRg3sk7-6m",
   "execution_count": 36,
   "outputs": [
    {
     "output_type": "stream",
     "name": "stdout",
     "text": [
      "2.0\n"
     ]
    }
   ]
  },
  {
   "cell_type": "code",
   "source": [
    "import math"
   ],
   "metadata": {
    "id": "wvvE1DbV89EG",
    "pycharm": {
     "name": "#%%\n"
    }
   },
   "id": "wvvE1DbV89EG",
   "execution_count": 37,
   "outputs": []
  },
  {
   "cell_type": "code",
   "source": [
    "def euclidean_distance(p,q):\n",
    "  distance=0\n",
    "  for px,qx in zip(p,q):\n",
    "    distance+=math.pow((px-qx),2)\n",
    "  distance = math.sqrt(distance)\n",
    "  return distance\n",
    "\n",
    "print(euclidean_distance(p1,p2))"
   ],
   "metadata": {
    "colab": {
     "base_uri": "https://localhost:8080/"
    },
    "id": "4XMhlEJ09Ame",
    "outputId": "bf403b3d-910a-45e8-933d-eab1b6b449b9",
    "pycharm": {
     "name": "#%%\n"
    }
   },
   "id": "4XMhlEJ09Ame",
   "execution_count": 38,
   "outputs": [
    {
     "output_type": "stream",
     "name": "stdout",
     "text": [
      "2.0\n"
     ]
    }
   ]
  },
  {
   "cell_type": "code",
   "source": [
    "print(columns)"
   ],
   "metadata": {
    "colab": {
     "base_uri": "https://localhost:8080/"
    },
    "id": "XmSI8vgg9eHp",
    "outputId": "8fd07a37-3683-4b3f-a502-0cd591de41a4",
    "pycharm": {
     "name": "#%%\n"
    }
   },
   "id": "XmSI8vgg9eHp",
   "execution_count": 39,
   "outputs": [
    {
     "output_type": "stream",
     "name": "stdout",
     "text": [
      "['#', 'Name', 'Type 1', 'Type 2', 'Total', 'HP', 'Attack', 'Defense', 'Sp. Atk', 'Sp. Def', 'Speed', 'Generation', 'Legendary']\n"
     ]
    }
   ]
  },
  {
   "cell_type": "code",
   "source": [
    "indexs=[5,6,7,8,9,10]"
   ],
   "metadata": {
    "id": "9SCNcOYT9jVW",
    "pycharm": {
     "name": "#%%\n"
    }
   },
   "id": "9SCNcOYT9jVW",
   "execution_count": 40,
   "outputs": []
  },
  {
   "cell_type": "code",
   "source": [
    "def get_pokemon_values(row):\n",
    "  pokemon_values=[]\n",
    "  for index in indexs:\n",
    "    pokemon_values.append(float(row[index]))\n",
    "  return pokemon_values"
   ],
   "metadata": {
    "id": "X5faz1d79vdQ",
    "pycharm": {
     "name": "#%%\n"
    }
   },
   "id": "X5faz1d79vdQ",
   "execution_count": 41,
   "outputs": []
  },
  {
   "cell_type": "code",
   "source": [
    "print(get_pokemon_values(pokemon_rows[-1]))"
   ],
   "metadata": {
    "colab": {
     "base_uri": "https://localhost:8080/"
    },
    "id": "zkZi3vKw-Tbj",
    "outputId": "68d2e0fa-d80a-4ce8-da1d-43b5f92be2cb",
    "pycharm": {
     "name": "#%%\n"
    }
   },
   "id": "zkZi3vKw-Tbj",
   "execution_count": 42,
   "outputs": [
    {
     "output_type": "stream",
     "name": "stdout",
     "text": [
      "[80.0, 110.0, 120.0, 130.0, 90.0, 70.0]\n"
     ]
    }
   ]
  },
  {
   "cell_type": "code",
   "source": [
    "pokemon_values=[]\n",
    "for row in pokemon_rows:\n",
    "  pokemon_values.append(get_pokemon_values(row))\n",
    "\n"
   ],
   "metadata": {
    "id": "QejNuqKR-gL-",
    "pycharm": {
     "name": "#%%\n"
    }
   },
   "id": "QejNuqKR-gL-",
   "execution_count": 43,
   "outputs": []
  },
  {
   "cell_type": "code",
   "source": [
    "pokemon_values[-1]"
   ],
   "metadata": {
    "colab": {
     "base_uri": "https://localhost:8080/"
    },
    "id": "n1Azqe28-2Yu",
    "outputId": "710efb04-de03-48c3-c19b-26a83ef15213",
    "pycharm": {
     "name": "#%%\n"
    }
   },
   "id": "n1Azqe28-2Yu",
   "execution_count": 44,
   "outputs": [
    {
     "output_type": "execute_result",
     "data": {
      "text/plain": [
       "[80.0, 110.0, 120.0, 130.0, 90.0, 70.0]"
      ]
     },
     "metadata": {},
     "execution_count": 44
    }
   ]
  },
  {
   "cell_type": "markdown",
   "id": "2857aad1",
   "metadata": {
    "id": "2857aad1",
    "pycharm": {
     "name": "#%% md\n"
    }
   },
   "source": [
    "### Sottoproblema 2.c Trovare i k pokemon più simili utilizzando la funzione di similarità\n",
    "\n",
    "Concetti teorici correlati:\n",
    "- cicli for\n",
    "- strutture dati complesse (liste di tuple?)\n",
    "- sort \n",
    "- funzioni lambda\n",
    "- array slicing"
   ]
  },
  {
   "cell_type": "code",
   "execution_count": 45,
   "id": "41bae39e",
   "metadata": {
    "id": "41bae39e",
    "pycharm": {
     "name": "#%%\n"
    }
   },
   "outputs": [],
   "source": [
    "# Qui andremo ad unire i pezzi:\n",
    "# - Partiamo dall'input dell'utente e creiamo una lista corrispondente ad un pokemon \"fittizio\"\n",
    "# - Aggiungiamo al dataset e normalizziamo (ottenendo un dataset normalizzato)\n",
    "# - Estraiamo ultima riga (corrispondente al pokemon fittizio)\n",
    "# - in un ciclo for calcoliamo le distanze e le inseriamo nella struttura dati complessa\n",
    "# - orinamento tramite sort e lambda\n",
    "# - estraiamo i primi K elementi"
   ]
  },
  {
   "cell_type": "code",
   "source": [
    "def get_k_neighbors(dataset,element,k=5):\n",
    "  distances=[]\n",
    "  for index,row in enumerate(dataset):\n",
    "    distance=euclidean_distance(row,element)\n",
    "    distances.append((index,distance))\n",
    "\n",
    "  distances.sort(key=lambda x:x[1])\n",
    "  return distances[:k]"
   ],
   "metadata": {
    "id": "W5eITp9ACVp2",
    "pycharm": {
     "name": "#%%\n"
    }
   },
   "id": "W5eITp9ACVp2",
   "execution_count": 46,
   "outputs": []
  },
  {
   "cell_type": "code",
   "source": [
    "hp=float(input('quale è il valore dei punti vita?\\n'))\n",
    "attack=float(input('quale è il valore di attacco?\\n'))\n",
    "defense=float(input('quale è il valore di difesa?\\n'))\n",
    "sp_atk=float(input(\"quale è il valore dell'attacco speciale?\\n\"))\n",
    "sp_def=float(input(\"quale è il valore della difesa speciale?\\n\"))\n",
    "speed=float(input(\"quale è il valore della velocità?\\n\"))\n",
    "\n",
    "our_pokemon=[hp,attack,defense,sp_atk,sp_def,speed]\n",
    "neighbors=get_k_neighbors(pokemon_values,our_pokemon)"
   ],
   "metadata": {
    "colab": {
     "base_uri": "https://localhost:8080/"
    },
    "id": "-WSY3m75D__I",
    "outputId": "00b23e8e-477f-459b-93ed-fc933972f141",
    "pycharm": {
     "name": "#%%\n"
    }
   },
   "id": "-WSY3m75D__I",
   "execution_count": 47,
   "outputs": [
    {
     "name": "stdout",
     "output_type": "stream",
     "text": [
      "quale è il valore dei punti vita?\n",
      "45\n",
      "quale è il valore di attacco?\n",
      "65\n",
      "quale è il valore di difesa?\n",
      "78\n",
      "quale è il valore dell'attacco speciale?\n",
      "68\n",
      "quale è il valore della difesa speciale?\n",
      "65\n",
      "quale è il valore della velocità?\n",
      "75\n"
     ]
    }
   ]
  },
  {
   "cell_type": "code",
   "source": [
    "print(neighbors)"
   ],
   "metadata": {
    "colab": {
     "base_uri": "https://localhost:8080/"
    },
    "id": "o0cv4lolE1_R",
    "outputId": "c81fd4d8-dfb1-4a4a-9330-4cdaf800643c",
    "pycharm": {
     "name": "#%%\n"
    }
   },
   "id": "o0cv4lolE1_R",
   "execution_count": 48,
   "outputs": [
    {
     "output_type": "stream",
     "name": "stdout",
     "text": [
      "[(335, 21.166010488516726), (555, 22.06807649071391), (644, 26.551836094703507), (167, 26.70205984563738), (10, 26.962937525425527)]\n"
     ]
    }
   ]
  },
  {
   "cell_type": "markdown",
   "id": "ceb60d5f",
   "metadata": {
    "id": "ceb60d5f",
    "pycharm": {
     "name": "#%% md\n"
    }
   },
   "source": [
    "### Sottoproblema 3 Visualizzare i risultati\n",
    "\n",
    "Concetti teorici correlati:\n",
    "- f-strings\n",
    "- funzioni"
   ]
  },
  {
   "cell_type": "code",
   "execution_count": 49,
   "id": "9694ecb7",
   "metadata": {
    "id": "9694ecb7",
    "pycharm": {
     "name": "#%%\n"
    }
   },
   "outputs": [],
   "source": [
    "# Qui andremo a creare una funzione che partendo dai K indici ci costruisce K stringhe tramite funzione ed f-strings"
   ]
  },
  {
   "cell_type": "code",
   "source": [
    "print(columns)"
   ],
   "metadata": {
    "colab": {
     "base_uri": "https://localhost:8080/"
    },
    "id": "3774q6iqNM8r",
    "outputId": "a59d52ff-cb6e-4655-aba2-91bdcae73c7f",
    "pycharm": {
     "name": "#%%\n"
    }
   },
   "id": "3774q6iqNM8r",
   "execution_count": 50,
   "outputs": [
    {
     "output_type": "stream",
     "name": "stdout",
     "text": [
      "['#', 'Name', 'Type 1', 'Type 2', 'Total', 'HP', 'Attack', 'Defense', 'Sp. Atk', 'Sp. Def', 'Speed', 'Generation', 'Legendary']\n"
     ]
    }
   ]
  },
  {
   "cell_type": "code",
   "source": [
    "def print_pokemon(index):\n",
    "  s=f'{pokemon_rows[index][0]} - {pokemon_rows[index][1]}, di tipo {pokemon_rows[index][2]}'\n",
    "\n",
    "  if pokemon_rows[index][-1]=='True':\n",
    "    s+=f'\\n - Pokemon Leggendario'\n",
    "  else:\n",
    "    s+=f'\\n - Pokemon Non Leggendario'\n",
    "\n",
    "  for column,value in zip(columns,pokemon_rows[index] ) :\n",
    "    s+=f'\\n{column:10} -> {value:5}'\n",
    "  print(s)"
   ],
   "metadata": {
    "id": "j9_ui_YEMsEE",
    "pycharm": {
     "name": "#%%\n"
    }
   },
   "id": "j9_ui_YEMsEE",
   "execution_count": 51,
   "outputs": []
  },
  {
   "cell_type": "code",
   "source": [
    "for n in neighbors:\n",
    "  print_pokemon(n[0])"
   ],
   "metadata": {
    "colab": {
     "base_uri": "https://localhost:8080/"
    },
    "id": "rBoVjNn6ObDh",
    "outputId": "2fa71a44-fcf5-47d6-d40e-207f3894b086",
    "pycharm": {
     "name": "#%%\n"
    }
   },
   "id": "rBoVjNn6ObDh",
   "execution_count": 52,
   "outputs": [
    {
     "output_type": "stream",
     "name": "stdout",
     "text": [
      "308 - Medicham, di tipo Fighting\n",
      " - Pokemon Non Leggendario\n",
      "#          -> 308  \n",
      "Name       -> Medicham\n",
      "Type 1     -> Fighting\n",
      "Type 2     -> Psychic\n",
      "Total      -> 410  \n",
      "HP         -> 60   \n",
      "Attack     -> 60   \n",
      "Defense    -> 75   \n",
      "Sp. Atk    -> 60   \n",
      "Sp. Def    -> 75   \n",
      "Speed      -> 80   \n",
      "Generation -> 3    \n",
      "Legendary  -> False\n",
      "496 - Servine, di tipo Grass\n",
      " - Pokemon Non Leggendario\n",
      "#          -> 496  \n",
      "Name       -> Servine\n",
      "Type 1     -> Grass\n",
      "Type 2     ->      \n",
      "Total      -> 413  \n",
      "HP         -> 60   \n",
      "Attack     -> 60   \n",
      "Defense    -> 75   \n",
      "Sp. Atk    -> 60   \n",
      "Sp. Def    -> 75   \n",
      "Speed      -> 83   \n",
      "Generation -> 5    \n",
      "Legendary  -> False\n",
      "583 - Vanillish, di tipo Ice\n",
      " - Pokemon Non Leggendario\n",
      "#          -> 583  \n",
      "Name       -> Vanillish\n",
      "Type 1     -> Ice  \n",
      "Type 2     ->      \n",
      "Total      -> 395  \n",
      "HP         -> 51   \n",
      "Attack     -> 65   \n",
      "Defense    -> 65   \n",
      "Sp. Atk    -> 80   \n",
      "Sp. Def    -> 75   \n",
      "Speed      -> 59   \n",
      "Generation -> 5    \n",
      "Legendary  -> False\n",
      "153 - Bayleef, di tipo Grass\n",
      " - Pokemon Non Leggendario\n",
      "#          -> 153  \n",
      "Name       -> Bayleef\n",
      "Type 1     -> Grass\n",
      "Type 2     ->      \n",
      "Total      -> 405  \n",
      "HP         -> 60   \n",
      "Attack     -> 62   \n",
      "Defense    -> 80   \n",
      "Sp. Atk    -> 63   \n",
      "Sp. Def    -> 80   \n",
      "Speed      -> 60   \n",
      "Generation -> 2    \n",
      "Legendary  -> False\n",
      "8 - Wartortle, di tipo Water\n",
      " - Pokemon Non Leggendario\n",
      "#          -> 8    \n",
      "Name       -> Wartortle\n",
      "Type 1     -> Water\n",
      "Type 2     ->      \n",
      "Total      -> 405  \n",
      "HP         -> 59   \n",
      "Attack     -> 63   \n",
      "Defense    -> 80   \n",
      "Sp. Atk    -> 65   \n",
      "Sp. Def    -> 80   \n",
      "Speed      -> 58   \n",
      "Generation -> 1    \n",
      "Legendary  -> False\n"
     ]
    }
   ]
  },
  {
   "cell_type": "markdown",
   "id": "d4ba5162",
   "metadata": {
    "id": "d4ba5162",
    "pycharm": {
     "name": "#%% md\n"
    }
   },
   "source": [
    "### Bonus track Visualizzare i Pokemon\n",
    "\n",
    "Concetti di teoria correlati:\n",
    "- `list comprehension`\n",
    "\n",
    "Se sei sul tuo Jupyter notebook usa il seguente snippet di codice: \n",
    "\n",
    "```python\n",
    "from IPython.display import Image\n",
    "\n",
    "for n,p in enumerate(best_pokemon):\n",
    "    print('-'*50)\n",
    "    print(n+1)\n",
    "    print(pokemon_dataset[p[0]][1])\n",
    "    display(Image(f\"resized/{pokemon_dataset[p[0]][0]}.jpg\")),\n",
    "    print('-'*50)\n",
    "```"
   ]
  },
  {
   "cell_type": "code",
   "execution_count": 53,
   "id": "329498eb",
   "metadata": {
    "colab": {
     "base_uri": "https://localhost:8080/",
     "height": 1000
    },
    "id": "329498eb",
    "outputId": "2f47e6fa-9df5-4167-e559-67d0ce861417",
    "pycharm": {
     "name": "#%%\n"
    }
   },
   "outputs": [
    {
     "output_type": "stream",
     "name": "stdout",
     "text": [
      "--------------------------------------------------\n",
      "1\n",
      "Medicham\n"
     ]
    },
    {
     "output_type": "display_data",
     "data": {
      "text/plain": [
       "<IPython.core.display.Image object>"
      ],
      "image/jpeg": "[encoded data removed]"
     },
     "metadata": {
      "image/jpeg": {
       "width": 150
      }
     }
    },
    {
     "output_type": "stream",
     "name": "stdout",
     "text": [
      "--------------------------------------------------\n",
      "--------------------------------------------------\n",
      "2\n",
      "Servine\n"
     ]
    },
    {
     "output_type": "display_data",
     "data": {
      "text/plain": [
       "<IPython.core.display.Image object>"
      ],
      "image/jpeg": "[encoded data removed]"
     },
     "metadata": {
      "image/jpeg": {
       "width": 150
      }
     }
    },
    {
     "output_type": "stream",
     "name": "stdout",
     "text": [
      "--------------------------------------------------\n",
      "--------------------------------------------------\n",
      "3\n",
      "Vanillish\n"
     ]
    },
    {
     "output_type": "display_data",
     "data": {
      "text/plain": [
       "<IPython.core.display.Image object>"
      ],
      "image/jpeg": "[encoded data removed]"
     },
     "metadata": {
      "image/jpeg": {
       "width": 150
      }
     }
    },
    {
     "output_type": "stream",
     "name": "stdout",
     "text": [
      "--------------------------------------------------\n",
      "--------------------------------------------------\n",
      "4\n",
      "Bayleef\n"
     ]
    },
    {
     "output_type": "display_data",
     "data": {
      "text/plain": [
       "<IPython.core.display.Image object>"
      ],
      "image/jpeg": "[encoded data removed]"
     },
     "metadata": {
      "image/jpeg": {
       "width": 150
      }
     }
    },
    {
     "output_type": "stream",
     "name": "stdout",
     "text": [
      "--------------------------------------------------\n",
      "--------------------------------------------------\n",
      "5\n",
      "Wartortle\n"
     ]
    },
    {
     "output_type": "display_data",
     "data": {
      "text/plain": [
       "<IPython.core.display.Image object>"
      ],
      "image/jpeg": "[encoded data removed]"
     },
     "metadata": {
      "image/jpeg": {
       "width": 150
      }
     }
    },
    {
     "output_type": "stream",
     "name": "stdout",
     "text": [
      "--------------------------------------------------\n"
     ]
    }
   ],
   "source": [
    "from IPython.display import Image\n",
    "\n",
    "for n,p in enumerate(neighbors):\n",
    "  index=p[0]\n",
    "  print('-'*50)\n",
    "  print(n+1)\n",
    "  print(pokemon_rows[index][1])\n",
    "  display(Image(f\"resized/{pokemon_rows[index][0]}.jpg\",width=150)),\n",
    "  print('-'*50)"
   ]
  },
  {
   "cell_type": "code",
   "source": [],
   "metadata": {
    "id": "O7clkGYhPciA",
    "pycharm": {
     "name": "#%%\n"
    }
   },
   "id": "O7clkGYhPciA",
   "execution_count": 53,
   "outputs": []
  }
 ],
 "metadata": {
  "kernelspec": {
   "display_name": "Python 3 (ipykernel)",
   "language": "python",
   "name": "python3"
  },
  "language_info": {
   "codemirror_mode": {
    "name": "ipython",
    "version": 3
   },
   "file_extension": ".py",
   "mimetype": "text/x-python",
   "name": "python",
   "nbconvert_exporter": "python",
   "pygments_lexer": "ipython3",
   "version": "3.10.0"
  },
  "colab": {
   "name": "Live_Coding.ipynb",
   "provenance": []
  }
 },
 "nbformat": 4,
 "nbformat_minor": 5
}